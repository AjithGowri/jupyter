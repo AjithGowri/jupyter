{
 "cells": [
  {
   "cell_type": "markdown",
   "metadata": {},
   "source": [
    "# 1)Problem Understanding"
   ]
  },
  {
   "cell_type": "raw",
   "metadata": {},
   "source": [
    "Insurance fraud claim happens every day.Our goal is predict the vehicle insurance claim is fraud or not based on \n",
    "demographics data,policy information data,date of claim data,fraud data.\n",
    "\n",
    "AI + X(Domain) = Business\n",
    " \n",
    "So we applied AI for this Insurance Domain to solve fraud insurance claim problem."
   ]
  },
  {
   "cell_type": "markdown",
   "metadata": {},
   "source": [
    "# 2) Data Preprocessing"
   ]
  },
  {
   "cell_type": "code",
   "execution_count": 1,
   "metadata": {
    "id": "B7b9TGWoUH2U"
   },
   "outputs": [],
   "source": [
    "# importing neccessary libraries \n",
    "import pandas as pd\n",
    "import numpy as np\n",
    "import matplotlib.pyplot as plt\n",
    "%matplotlib inline\n",
    "import seaborn as sns\n",
    "import warnings\n",
    "warnings.filterwarnings('ignore')"
   ]
  },
  {
   "cell_type": "code",
   "execution_count": 287,
   "metadata": {
    "id": "Ae40t3NYR5PS"
   },
   "outputs": [],
   "source": [
    "df1=pd.read_csv('Train_Claim.csv')"
   ]
  },
  {
   "cell_type": "code",
   "execution_count": 3,
   "metadata": {
    "colab": {
     "base_uri": "https://localhost:8080/",
     "height": 374
    },
    "id": "DJelDfZdULak",
    "outputId": "8920b074-c63b-4eee-ff08-7fb7571d4bd9"
   },
   "outputs": [
    {
     "name": "stdout",
     "output_type": "stream",
     "text": [
      "(28836, 19)\n"
     ]
    },
    {
     "data": {
      "text/html": [
       "<div>\n",
       "<style scoped>\n",
       "    .dataframe tbody tr th:only-of-type {\n",
       "        vertical-align: middle;\n",
       "    }\n",
       "\n",
       "    .dataframe tbody tr th {\n",
       "        vertical-align: top;\n",
       "    }\n",
       "\n",
       "    .dataframe thead th {\n",
       "        text-align: right;\n",
       "    }\n",
       "</style>\n",
       "<table border=\"1\" class=\"dataframe\">\n",
       "  <thead>\n",
       "    <tr style=\"text-align: right;\">\n",
       "      <th></th>\n",
       "      <th>CustomerID</th>\n",
       "      <th>DateOfIncident</th>\n",
       "      <th>TypeOfIncident</th>\n",
       "      <th>TypeOfCollission</th>\n",
       "      <th>SeverityOfIncident</th>\n",
       "      <th>AuthoritiesContacted</th>\n",
       "      <th>IncidentState</th>\n",
       "      <th>IncidentCity</th>\n",
       "      <th>IncidentAddress</th>\n",
       "      <th>IncidentTime</th>\n",
       "      <th>NumberOfVehicles</th>\n",
       "      <th>PropertyDamage</th>\n",
       "      <th>BodilyInjuries</th>\n",
       "      <th>Witnesses</th>\n",
       "      <th>PoliceReport</th>\n",
       "      <th>AmountOfTotalClaim</th>\n",
       "      <th>AmountOfInjuryClaim</th>\n",
       "      <th>AmountOfPropertyClaim</th>\n",
       "      <th>AmountOfVehicleDamage</th>\n",
       "    </tr>\n",
       "  </thead>\n",
       "  <tbody>\n",
       "    <tr>\n",
       "      <th>0</th>\n",
       "      <td>Cust10000</td>\n",
       "      <td>2015-02-03</td>\n",
       "      <td>Multi-vehicle Collision</td>\n",
       "      <td>Side Collision</td>\n",
       "      <td>Total Loss</td>\n",
       "      <td>Police</td>\n",
       "      <td>State7</td>\n",
       "      <td>City1</td>\n",
       "      <td>Location 1311</td>\n",
       "      <td>17</td>\n",
       "      <td>3</td>\n",
       "      <td>?</td>\n",
       "      <td>1</td>\n",
       "      <td>0</td>\n",
       "      <td>?</td>\n",
       "      <td>65501</td>\n",
       "      <td>13417</td>\n",
       "      <td>6071</td>\n",
       "      <td>46013</td>\n",
       "    </tr>\n",
       "    <tr>\n",
       "      <th>1</th>\n",
       "      <td>Cust10001</td>\n",
       "      <td>2015-02-02</td>\n",
       "      <td>Multi-vehicle Collision</td>\n",
       "      <td>Side Collision</td>\n",
       "      <td>Total Loss</td>\n",
       "      <td>Police</td>\n",
       "      <td>State7</td>\n",
       "      <td>City5</td>\n",
       "      <td>Location 1311</td>\n",
       "      <td>10</td>\n",
       "      <td>3</td>\n",
       "      <td>YES</td>\n",
       "      <td>2</td>\n",
       "      <td>1</td>\n",
       "      <td>YES</td>\n",
       "      <td>61382</td>\n",
       "      <td>15560</td>\n",
       "      <td>5919</td>\n",
       "      <td>39903</td>\n",
       "    </tr>\n",
       "    <tr>\n",
       "      <th>2</th>\n",
       "      <td>Cust10002</td>\n",
       "      <td>2015-01-15</td>\n",
       "      <td>Single Vehicle Collision</td>\n",
       "      <td>Side Collision</td>\n",
       "      <td>Minor Damage</td>\n",
       "      <td>Other</td>\n",
       "      <td>State8</td>\n",
       "      <td>City6</td>\n",
       "      <td>Location 2081</td>\n",
       "      <td>22</td>\n",
       "      <td>1</td>\n",
       "      <td>YES</td>\n",
       "      <td>2</td>\n",
       "      <td>3</td>\n",
       "      <td>NO</td>\n",
       "      <td>66755</td>\n",
       "      <td>11630</td>\n",
       "      <td>11630</td>\n",
       "      <td>43495</td>\n",
       "    </tr>\n",
       "    <tr>\n",
       "      <th>3</th>\n",
       "      <td>Cust10003</td>\n",
       "      <td>2015-01-19</td>\n",
       "      <td>Single Vehicle Collision</td>\n",
       "      <td>Side Collision</td>\n",
       "      <td>Minor Damage</td>\n",
       "      <td>Other</td>\n",
       "      <td>State9</td>\n",
       "      <td>City6</td>\n",
       "      <td>Location 2081</td>\n",
       "      <td>22</td>\n",
       "      <td>1</td>\n",
       "      <td>YES</td>\n",
       "      <td>2</td>\n",
       "      <td>3</td>\n",
       "      <td>NO</td>\n",
       "      <td>66243</td>\n",
       "      <td>12003</td>\n",
       "      <td>12003</td>\n",
       "      <td>42237</td>\n",
       "    </tr>\n",
       "    <tr>\n",
       "      <th>4</th>\n",
       "      <td>Cust10004</td>\n",
       "      <td>2015-01-09</td>\n",
       "      <td>Single Vehicle Collision</td>\n",
       "      <td>Rear Collision</td>\n",
       "      <td>Minor Damage</td>\n",
       "      <td>Fire</td>\n",
       "      <td>State8</td>\n",
       "      <td>City6</td>\n",
       "      <td>Location 1695</td>\n",
       "      <td>10</td>\n",
       "      <td>1</td>\n",
       "      <td>NO</td>\n",
       "      <td>2</td>\n",
       "      <td>1</td>\n",
       "      <td>YES</td>\n",
       "      <td>53544</td>\n",
       "      <td>8829</td>\n",
       "      <td>7234</td>\n",
       "      <td>37481</td>\n",
       "    </tr>\n",
       "  </tbody>\n",
       "</table>\n",
       "</div>"
      ],
      "text/plain": [
       "  CustomerID DateOfIncident            TypeOfIncident TypeOfCollission  \\\n",
       "0  Cust10000     2015-02-03   Multi-vehicle Collision   Side Collision   \n",
       "1  Cust10001     2015-02-02   Multi-vehicle Collision   Side Collision   \n",
       "2  Cust10002     2015-01-15  Single Vehicle Collision   Side Collision   \n",
       "3  Cust10003     2015-01-19  Single Vehicle Collision   Side Collision   \n",
       "4  Cust10004     2015-01-09  Single Vehicle Collision   Rear Collision   \n",
       "\n",
       "  SeverityOfIncident AuthoritiesContacted IncidentState IncidentCity  \\\n",
       "0         Total Loss               Police        State7        City1   \n",
       "1         Total Loss               Police        State7        City5   \n",
       "2       Minor Damage                Other        State8        City6   \n",
       "3       Minor Damage                Other        State9        City6   \n",
       "4       Minor Damage                 Fire        State8        City6   \n",
       "\n",
       "  IncidentAddress  IncidentTime  NumberOfVehicles PropertyDamage  \\\n",
       "0   Location 1311            17                 3              ?   \n",
       "1   Location 1311            10                 3            YES   \n",
       "2   Location 2081            22                 1            YES   \n",
       "3   Location 2081            22                 1            YES   \n",
       "4   Location 1695            10                 1             NO   \n",
       "\n",
       "   BodilyInjuries Witnesses PoliceReport AmountOfTotalClaim  \\\n",
       "0               1         0            ?              65501   \n",
       "1               2         1          YES              61382   \n",
       "2               2         3           NO              66755   \n",
       "3               2         3           NO              66243   \n",
       "4               2         1          YES              53544   \n",
       "\n",
       "   AmountOfInjuryClaim  AmountOfPropertyClaim  AmountOfVehicleDamage  \n",
       "0                13417                   6071                  46013  \n",
       "1                15560                   5919                  39903  \n",
       "2                11630                  11630                  43495  \n",
       "3                12003                  12003                  42237  \n",
       "4                 8829                   7234                  37481  "
      ]
     },
     "execution_count": 3,
     "metadata": {},
     "output_type": "execute_result"
    }
   ],
   "source": [
    "print(df1.shape)\n",
    "df1.head()"
   ]
  },
  {
   "cell_type": "code",
   "execution_count": 4,
   "metadata": {
    "id": "guMurYFFUR_Z"
   },
   "outputs": [],
   "source": [
    "df2=pd.read_csv('Train_Demographics.csv')"
   ]
  },
  {
   "cell_type": "code",
   "execution_count": 5,
   "metadata": {
    "colab": {
     "base_uri": "https://localhost:8080/"
    },
    "id": "D16HDSDiqrJk",
    "outputId": "b347ed8c-f1e1-4ba8-dbb6-66a103791617"
   },
   "outputs": [
    {
     "data": {
      "text/plain": [
       "(28836, 10)"
      ]
     },
     "execution_count": 5,
     "metadata": {},
     "output_type": "execute_result"
    }
   ],
   "source": [
    "df2.shape"
   ]
  },
  {
   "cell_type": "code",
   "execution_count": 6,
   "metadata": {
    "id": "HA_8EDglqtKu"
   },
   "outputs": [],
   "source": [
    "df3=pd.read_csv('Train_Policy.csv')"
   ]
  },
  {
   "cell_type": "code",
   "execution_count": 7,
   "metadata": {},
   "outputs": [
    {
     "data": {
      "text/plain": [
       "Index(['InsurancePolicyNumber', 'CustomerLoyaltyPeriod',\n",
       "       'DateOfPolicyCoverage', 'InsurancePolicyState',\n",
       "       'Policy_CombinedSingleLimit', 'Policy_Deductible',\n",
       "       'PolicyAnnualPremium', 'UmbrellaLimit', 'InsuredRelationship',\n",
       "       'CustomerID'],\n",
       "      dtype='object')"
      ]
     },
     "execution_count": 7,
     "metadata": {},
     "output_type": "execute_result"
    }
   ],
   "source": [
    "df3.columns"
   ]
  },
  {
   "cell_type": "code",
   "execution_count": 8,
   "metadata": {
    "colab": {
     "base_uri": "https://localhost:8080/"
    },
    "id": "7Imzfofoq0lv",
    "outputId": "eb400c98-3531-47e2-9124-cdc9ffd3b37f",
    "scrolled": false
   },
   "outputs": [
    {
     "data": {
      "text/plain": [
       "(28836, 10)"
      ]
     },
     "execution_count": 8,
     "metadata": {},
     "output_type": "execute_result"
    }
   ],
   "source": [
    "df3.shape"
   ]
  },
  {
   "cell_type": "code",
   "execution_count": 9,
   "metadata": {},
   "outputs": [],
   "source": [
    "#Train vehicle dataset having a mixed values so, I have filter that and make it as a new dataframe."
   ]
  },
  {
   "cell_type": "code",
   "execution_count": 10,
   "metadata": {
    "id": "VEg_8IaCq2rB"
   },
   "outputs": [],
   "source": [
    "df4=pd.read_csv('Train_Vehicle.csv')"
   ]
  },
  {
   "cell_type": "code",
   "execution_count": 11,
   "metadata": {
    "colab": {
     "base_uri": "https://localhost:8080/"
    },
    "id": "_6lh9USxre8v",
    "outputId": "6c9fa49e-5e92-412c-ea18-bdcd0b48aadd"
   },
   "outputs": [
    {
     "data": {
      "text/plain": [
       "(115344, 3)"
      ]
     },
     "execution_count": 11,
     "metadata": {},
     "output_type": "execute_result"
    }
   ],
   "source": [
    "df4.shape"
   ]
  },
  {
   "cell_type": "code",
   "execution_count": 12,
   "metadata": {
    "colab": {
     "base_uri": "https://localhost:8080/"
    },
    "id": "3qya-75_CmUm",
    "outputId": "b7e69b6a-172a-4a56-dd71-d9f0bcf33fff"
   },
   "outputs": [],
   "source": [
    "#Creating an VechileID column\n",
    "v_id=df4.loc[df4.VehicleAttribute=='VehicleID']\n",
    "v_id['VehicleID']=v_id['VehicleAttributeDetails']\n",
    "v_id.drop(['VehicleAttribute','VehicleAttributeDetails'],axis=1,inplace=True)"
   ]
  },
  {
   "cell_type": "code",
   "execution_count": 13,
   "metadata": {
    "colab": {
     "base_uri": "https://localhost:8080/",
     "height": 206
    },
    "id": "lqLjHBA3C6i-",
    "outputId": "6929fd77-3653-44ab-9332-11e69723af5e"
   },
   "outputs": [
    {
     "data": {
      "text/html": [
       "<div>\n",
       "<style scoped>\n",
       "    .dataframe tbody tr th:only-of-type {\n",
       "        vertical-align: middle;\n",
       "    }\n",
       "\n",
       "    .dataframe tbody tr th {\n",
       "        vertical-align: top;\n",
       "    }\n",
       "\n",
       "    .dataframe thead th {\n",
       "        text-align: right;\n",
       "    }\n",
       "</style>\n",
       "<table border=\"1\" class=\"dataframe\">\n",
       "  <thead>\n",
       "    <tr style=\"text-align: right;\">\n",
       "      <th></th>\n",
       "      <th>CustomerID</th>\n",
       "      <th>VehicleID</th>\n",
       "    </tr>\n",
       "  </thead>\n",
       "  <tbody>\n",
       "    <tr>\n",
       "      <th>0</th>\n",
       "      <td>Cust20179</td>\n",
       "      <td>Vehicle8898</td>\n",
       "    </tr>\n",
       "    <tr>\n",
       "      <th>4</th>\n",
       "      <td>Cust13038</td>\n",
       "      <td>Vehicle30212</td>\n",
       "    </tr>\n",
       "    <tr>\n",
       "      <th>5</th>\n",
       "      <td>Cust1801</td>\n",
       "      <td>Vehicle24096</td>\n",
       "    </tr>\n",
       "    <tr>\n",
       "      <th>10</th>\n",
       "      <td>Cust14947</td>\n",
       "      <td>Vehicle15216</td>\n",
       "    </tr>\n",
       "    <tr>\n",
       "      <th>16</th>\n",
       "      <td>Cust19144</td>\n",
       "      <td>Vehicle29018</td>\n",
       "    </tr>\n",
       "  </tbody>\n",
       "</table>\n",
       "</div>"
      ],
      "text/plain": [
       "   CustomerID     VehicleID\n",
       "0   Cust20179   Vehicle8898\n",
       "4   Cust13038  Vehicle30212\n",
       "5    Cust1801  Vehicle24096\n",
       "10  Cust14947  Vehicle15216\n",
       "16  Cust19144  Vehicle29018"
      ]
     },
     "execution_count": 13,
     "metadata": {},
     "output_type": "execute_result"
    }
   ],
   "source": [
    "v_id.head()"
   ]
  },
  {
   "cell_type": "code",
   "execution_count": 14,
   "metadata": {
    "colab": {
     "base_uri": "https://localhost:8080/"
    },
    "id": "vwZe0q5eC9px",
    "outputId": "cbcd428c-54b0-42ec-ef76-a038d5a59938"
   },
   "outputs": [],
   "source": [
    "#creating VehicleModel column\n",
    "vm=df4.loc[df4.VehicleAttribute=='VehicleModel']\n",
    "vm['VehicleModel']=vm['VehicleAttributeDetails']\n",
    "vm.drop(['VehicleAttribute','VehicleAttributeDetails'],axis=1,inplace=True)"
   ]
  },
  {
   "cell_type": "code",
   "execution_count": 15,
   "metadata": {
    "colab": {
     "base_uri": "https://localhost:8080/"
    },
    "id": "iaMJNO2RDIEP",
    "outputId": "27b799c4-227e-4a9f-c5cb-6fe2a039b0b5"
   },
   "outputs": [],
   "source": [
    "#creating VehicleMake column\n",
    "v_make=df4.loc[df4.VehicleAttribute=='VehicleMake']\n",
    "v_make['VehicleMake']=v_make['VehicleAttributeDetails']\n",
    "v_make.drop(['VehicleAttribute','VehicleAttributeDetails'],axis=1,inplace=True)"
   ]
  },
  {
   "cell_type": "code",
   "execution_count": 16,
   "metadata": {
    "colab": {
     "base_uri": "https://localhost:8080/"
    },
    "id": "SVei69LWDhY2",
    "outputId": "666df61a-a703-4a64-cca5-21fcadad4574"
   },
   "outputs": [],
   "source": [
    "#creating VehicleYOM column\n",
    "v_yom=df4.loc[df4.VehicleAttribute=='VehicleYOM']\n",
    "v_yom['VehicleYOM']=v_yom['VehicleAttributeDetails']\n",
    "v_yom.drop(['VehicleAttribute','VehicleAttributeDetails'],axis=1,inplace=True)"
   ]
  },
  {
   "cell_type": "code",
   "execution_count": 17,
   "metadata": {
    "id": "-xF5xSrQD20S"
   },
   "outputs": [],
   "source": [
    "d1=v_id.merge(vm)\n",
    "d2=v_make.merge(v_yom)\n",
    "\n",
    "df5=d1.merge(d2)"
   ]
  },
  {
   "cell_type": "code",
   "execution_count": 18,
   "metadata": {
    "colab": {
     "base_uri": "https://localhost:8080/",
     "height": 424
    },
    "id": "ePWVx33kD9M9",
    "outputId": "0f54ca19-6ec8-4e0e-eac5-2965d51c2367"
   },
   "outputs": [
    {
     "data": {
      "text/html": [
       "<div>\n",
       "<style scoped>\n",
       "    .dataframe tbody tr th:only-of-type {\n",
       "        vertical-align: middle;\n",
       "    }\n",
       "\n",
       "    .dataframe tbody tr th {\n",
       "        vertical-align: top;\n",
       "    }\n",
       "\n",
       "    .dataframe thead th {\n",
       "        text-align: right;\n",
       "    }\n",
       "</style>\n",
       "<table border=\"1\" class=\"dataframe\">\n",
       "  <thead>\n",
       "    <tr style=\"text-align: right;\">\n",
       "      <th></th>\n",
       "      <th>CustomerID</th>\n",
       "      <th>VehicleID</th>\n",
       "      <th>VehicleModel</th>\n",
       "      <th>VehicleMake</th>\n",
       "      <th>VehicleYOM</th>\n",
       "    </tr>\n",
       "  </thead>\n",
       "  <tbody>\n",
       "    <tr>\n",
       "      <th>0</th>\n",
       "      <td>Cust20179</td>\n",
       "      <td>Vehicle8898</td>\n",
       "      <td>Forrestor</td>\n",
       "      <td>BMW</td>\n",
       "      <td>2011</td>\n",
       "    </tr>\n",
       "    <tr>\n",
       "      <th>1</th>\n",
       "      <td>Cust13038</td>\n",
       "      <td>Vehicle30212</td>\n",
       "      <td>Maxima</td>\n",
       "      <td>Toyota</td>\n",
       "      <td>2000</td>\n",
       "    </tr>\n",
       "    <tr>\n",
       "      <th>2</th>\n",
       "      <td>Cust1801</td>\n",
       "      <td>Vehicle24096</td>\n",
       "      <td>MDX</td>\n",
       "      <td>Accura</td>\n",
       "      <td>1999</td>\n",
       "    </tr>\n",
       "    <tr>\n",
       "      <th>3</th>\n",
       "      <td>Cust14947</td>\n",
       "      <td>Vehicle15216</td>\n",
       "      <td>Ultima</td>\n",
       "      <td>Nissan</td>\n",
       "      <td>1998</td>\n",
       "    </tr>\n",
       "    <tr>\n",
       "      <th>4</th>\n",
       "      <td>Cust19144</td>\n",
       "      <td>Vehicle29018</td>\n",
       "      <td>Fusion</td>\n",
       "      <td>Ford</td>\n",
       "      <td>2011</td>\n",
       "    </tr>\n",
       "    <tr>\n",
       "      <th>...</th>\n",
       "      <td>...</td>\n",
       "      <td>...</td>\n",
       "      <td>...</td>\n",
       "      <td>...</td>\n",
       "      <td>...</td>\n",
       "    </tr>\n",
       "    <tr>\n",
       "      <th>28831</th>\n",
       "      <td>Cust2970</td>\n",
       "      <td>Vehicle19228</td>\n",
       "      <td>Pathfinder</td>\n",
       "      <td>Audi</td>\n",
       "      <td>2003</td>\n",
       "    </tr>\n",
       "    <tr>\n",
       "      <th>28832</th>\n",
       "      <td>Cust19731</td>\n",
       "      <td>Vehicle12644</td>\n",
       "      <td>Malibu</td>\n",
       "      <td>Chevrolet</td>\n",
       "      <td>2014</td>\n",
       "    </tr>\n",
       "    <tr>\n",
       "      <th>28833</th>\n",
       "      <td>Cust25338</td>\n",
       "      <td>Vehicle28831</td>\n",
       "      <td>95</td>\n",
       "      <td>Saab</td>\n",
       "      <td>2011</td>\n",
       "    </tr>\n",
       "    <tr>\n",
       "      <th>28834</th>\n",
       "      <td>Cust7637</td>\n",
       "      <td>Vehicle12870</td>\n",
       "      <td>Fusion</td>\n",
       "      <td>Ford</td>\n",
       "      <td>2008</td>\n",
       "    </tr>\n",
       "    <tr>\n",
       "      <th>28835</th>\n",
       "      <td>Cust33581</td>\n",
       "      <td>Vehicle19680</td>\n",
       "      <td>3 Series</td>\n",
       "      <td>BMW</td>\n",
       "      <td>2004</td>\n",
       "    </tr>\n",
       "  </tbody>\n",
       "</table>\n",
       "<p>28836 rows × 5 columns</p>\n",
       "</div>"
      ],
      "text/plain": [
       "      CustomerID     VehicleID VehicleModel VehicleMake VehicleYOM\n",
       "0      Cust20179   Vehicle8898    Forrestor         BMW       2011\n",
       "1      Cust13038  Vehicle30212       Maxima      Toyota       2000\n",
       "2       Cust1801  Vehicle24096          MDX      Accura       1999\n",
       "3      Cust14947  Vehicle15216       Ultima      Nissan       1998\n",
       "4      Cust19144  Vehicle29018       Fusion        Ford       2011\n",
       "...          ...           ...          ...         ...        ...\n",
       "28831   Cust2970  Vehicle19228   Pathfinder        Audi       2003\n",
       "28832  Cust19731  Vehicle12644       Malibu   Chevrolet       2014\n",
       "28833  Cust25338  Vehicle28831           95        Saab       2011\n",
       "28834   Cust7637  Vehicle12870       Fusion        Ford       2008\n",
       "28835  Cust33581  Vehicle19680     3 Series         BMW       2004\n",
       "\n",
       "[28836 rows x 5 columns]"
      ]
     },
     "execution_count": 18,
     "metadata": {},
     "output_type": "execute_result"
    }
   ],
   "source": [
    "df5"
   ]
  },
  {
   "cell_type": "code",
   "execution_count": 19,
   "metadata": {
    "id": "pz-oIdAALPK7"
   },
   "outputs": [],
   "source": [
    "df6=pd.read_csv('Traindata_with_Target.csv')"
   ]
  },
  {
   "cell_type": "code",
   "execution_count": 20,
   "metadata": {
    "colab": {
     "base_uri": "https://localhost:8080/",
     "height": 424
    },
    "id": "khqTWqSRLlaS",
    "outputId": "817cb274-2ab1-4e81-ee15-66cd56f9b013",
    "scrolled": false
   },
   "outputs": [
    {
     "data": {
      "text/html": [
       "<div>\n",
       "<style scoped>\n",
       "    .dataframe tbody tr th:only-of-type {\n",
       "        vertical-align: middle;\n",
       "    }\n",
       "\n",
       "    .dataframe tbody tr th {\n",
       "        vertical-align: top;\n",
       "    }\n",
       "\n",
       "    .dataframe thead th {\n",
       "        text-align: right;\n",
       "    }\n",
       "</style>\n",
       "<table border=\"1\" class=\"dataframe\">\n",
       "  <thead>\n",
       "    <tr style=\"text-align: right;\">\n",
       "      <th></th>\n",
       "      <th>CustomerID</th>\n",
       "      <th>ReportedFraud</th>\n",
       "    </tr>\n",
       "  </thead>\n",
       "  <tbody>\n",
       "    <tr>\n",
       "      <th>0</th>\n",
       "      <td>Cust20065</td>\n",
       "      <td>N</td>\n",
       "    </tr>\n",
       "    <tr>\n",
       "      <th>1</th>\n",
       "      <td>Cust37589</td>\n",
       "      <td>N</td>\n",
       "    </tr>\n",
       "    <tr>\n",
       "      <th>2</th>\n",
       "      <td>Cust24312</td>\n",
       "      <td>N</td>\n",
       "    </tr>\n",
       "    <tr>\n",
       "      <th>3</th>\n",
       "      <td>Cust5493</td>\n",
       "      <td>Y</td>\n",
       "    </tr>\n",
       "    <tr>\n",
       "      <th>4</th>\n",
       "      <td>Cust7704</td>\n",
       "      <td>Y</td>\n",
       "    </tr>\n",
       "    <tr>\n",
       "      <th>...</th>\n",
       "      <td>...</td>\n",
       "      <td>...</td>\n",
       "    </tr>\n",
       "    <tr>\n",
       "      <th>28831</th>\n",
       "      <td>Cust9773</td>\n",
       "      <td>N</td>\n",
       "    </tr>\n",
       "    <tr>\n",
       "      <th>28832</th>\n",
       "      <td>Cust38439</td>\n",
       "      <td>N</td>\n",
       "    </tr>\n",
       "    <tr>\n",
       "      <th>28833</th>\n",
       "      <td>Cust38444</td>\n",
       "      <td>N</td>\n",
       "    </tr>\n",
       "    <tr>\n",
       "      <th>28834</th>\n",
       "      <td>Cust26466</td>\n",
       "      <td>N</td>\n",
       "    </tr>\n",
       "    <tr>\n",
       "      <th>28835</th>\n",
       "      <td>Cust29555</td>\n",
       "      <td>N</td>\n",
       "    </tr>\n",
       "  </tbody>\n",
       "</table>\n",
       "<p>28836 rows × 2 columns</p>\n",
       "</div>"
      ],
      "text/plain": [
       "      CustomerID ReportedFraud\n",
       "0      Cust20065             N\n",
       "1      Cust37589             N\n",
       "2      Cust24312             N\n",
       "3       Cust5493             Y\n",
       "4       Cust7704             Y\n",
       "...          ...           ...\n",
       "28831   Cust9773             N\n",
       "28832  Cust38439             N\n",
       "28833  Cust38444             N\n",
       "28834  Cust26466             N\n",
       "28835  Cust29555             N\n",
       "\n",
       "[28836 rows x 2 columns]"
      ]
     },
     "execution_count": 20,
     "metadata": {},
     "output_type": "execute_result"
    }
   ],
   "source": [
    "df6"
   ]
  },
  {
   "cell_type": "markdown",
   "metadata": {},
   "source": [
    "## Merging all datasets "
   ]
  },
  {
   "cell_type": "code",
   "execution_count": 21,
   "metadata": {
    "id": "elUV42dqEJmh"
   },
   "outputs": [],
   "source": [
    "# We are merging different dataset into one \n",
    "m1=df1.merge(df2)\n",
    "m2=df3.merge(df5)\n",
    "\n",
    "df_n=m1.merge(m2)\n",
    "\n",
    "#df_new have all columns\n",
    "df_new=df_n.merge(df6)"
   ]
  },
  {
   "cell_type": "code",
   "execution_count": 22,
   "metadata": {
    "colab": {
     "base_uri": "https://localhost:8080/",
     "height": 644
    },
    "id": "Igj8hFMTE5hd",
    "outputId": "30aad92a-aae2-40cc-a127-66c14eddf7ed",
    "scrolled": true
   },
   "outputs": [
    {
     "data": {
      "text/plain": [
       "(28836, 42)"
      ]
     },
     "execution_count": 22,
     "metadata": {},
     "output_type": "execute_result"
    }
   ],
   "source": [
    "df_new.shape"
   ]
  },
  {
   "cell_type": "code",
   "execution_count": 23,
   "metadata": {
    "scrolled": true
   },
   "outputs": [
    {
     "data": {
      "text/html": [
       "<div>\n",
       "<style scoped>\n",
       "    .dataframe tbody tr th:only-of-type {\n",
       "        vertical-align: middle;\n",
       "    }\n",
       "\n",
       "    .dataframe tbody tr th {\n",
       "        vertical-align: top;\n",
       "    }\n",
       "\n",
       "    .dataframe thead th {\n",
       "        text-align: right;\n",
       "    }\n",
       "</style>\n",
       "<table border=\"1\" class=\"dataframe\">\n",
       "  <thead>\n",
       "    <tr style=\"text-align: right;\">\n",
       "      <th></th>\n",
       "      <th>CustomerID</th>\n",
       "      <th>DateOfIncident</th>\n",
       "      <th>TypeOfIncident</th>\n",
       "      <th>TypeOfCollission</th>\n",
       "      <th>SeverityOfIncident</th>\n",
       "      <th>AuthoritiesContacted</th>\n",
       "      <th>IncidentState</th>\n",
       "      <th>IncidentCity</th>\n",
       "      <th>IncidentAddress</th>\n",
       "      <th>IncidentTime</th>\n",
       "      <th>...</th>\n",
       "      <th>Policy_CombinedSingleLimit</th>\n",
       "      <th>Policy_Deductible</th>\n",
       "      <th>PolicyAnnualPremium</th>\n",
       "      <th>UmbrellaLimit</th>\n",
       "      <th>InsuredRelationship</th>\n",
       "      <th>VehicleID</th>\n",
       "      <th>VehicleModel</th>\n",
       "      <th>VehicleMake</th>\n",
       "      <th>VehicleYOM</th>\n",
       "      <th>ReportedFraud</th>\n",
       "    </tr>\n",
       "  </thead>\n",
       "  <tbody>\n",
       "    <tr>\n",
       "      <th>0</th>\n",
       "      <td>Cust10000</td>\n",
       "      <td>2015-02-03</td>\n",
       "      <td>Multi-vehicle Collision</td>\n",
       "      <td>Side Collision</td>\n",
       "      <td>Total Loss</td>\n",
       "      <td>Police</td>\n",
       "      <td>State7</td>\n",
       "      <td>City1</td>\n",
       "      <td>Location 1311</td>\n",
       "      <td>17</td>\n",
       "      <td>...</td>\n",
       "      <td>100/300</td>\n",
       "      <td>1000</td>\n",
       "      <td>1632.73</td>\n",
       "      <td>0</td>\n",
       "      <td>not-in-family</td>\n",
       "      <td>Vehicle26917</td>\n",
       "      <td>A5</td>\n",
       "      <td>Audi</td>\n",
       "      <td>2008</td>\n",
       "      <td>N</td>\n",
       "    </tr>\n",
       "    <tr>\n",
       "      <th>1</th>\n",
       "      <td>Cust10001</td>\n",
       "      <td>2015-02-02</td>\n",
       "      <td>Multi-vehicle Collision</td>\n",
       "      <td>Side Collision</td>\n",
       "      <td>Total Loss</td>\n",
       "      <td>Police</td>\n",
       "      <td>State7</td>\n",
       "      <td>City5</td>\n",
       "      <td>Location 1311</td>\n",
       "      <td>10</td>\n",
       "      <td>...</td>\n",
       "      <td>100/300</td>\n",
       "      <td>1000</td>\n",
       "      <td>1255.19</td>\n",
       "      <td>0</td>\n",
       "      <td>not-in-family</td>\n",
       "      <td>Vehicle15893</td>\n",
       "      <td>A5</td>\n",
       "      <td>Audi</td>\n",
       "      <td>2006</td>\n",
       "      <td>N</td>\n",
       "    </tr>\n",
       "    <tr>\n",
       "      <th>2</th>\n",
       "      <td>Cust10002</td>\n",
       "      <td>2015-01-15</td>\n",
       "      <td>Single Vehicle Collision</td>\n",
       "      <td>Side Collision</td>\n",
       "      <td>Minor Damage</td>\n",
       "      <td>Other</td>\n",
       "      <td>State8</td>\n",
       "      <td>City6</td>\n",
       "      <td>Location 2081</td>\n",
       "      <td>22</td>\n",
       "      <td>...</td>\n",
       "      <td>500/1000</td>\n",
       "      <td>617</td>\n",
       "      <td>1373.38</td>\n",
       "      <td>0</td>\n",
       "      <td>wife</td>\n",
       "      <td>Vehicle5152</td>\n",
       "      <td>Jetta</td>\n",
       "      <td>Volkswagen</td>\n",
       "      <td>1999</td>\n",
       "      <td>N</td>\n",
       "    </tr>\n",
       "    <tr>\n",
       "      <th>3</th>\n",
       "      <td>Cust10003</td>\n",
       "      <td>2015-01-19</td>\n",
       "      <td>Single Vehicle Collision</td>\n",
       "      <td>Side Collision</td>\n",
       "      <td>Minor Damage</td>\n",
       "      <td>Other</td>\n",
       "      <td>State9</td>\n",
       "      <td>City6</td>\n",
       "      <td>Location 2081</td>\n",
       "      <td>22</td>\n",
       "      <td>...</td>\n",
       "      <td>500/1000</td>\n",
       "      <td>722</td>\n",
       "      <td>1337.60</td>\n",
       "      <td>0</td>\n",
       "      <td>own-child</td>\n",
       "      <td>Vehicle37363</td>\n",
       "      <td>Jetta</td>\n",
       "      <td>Volkswagen</td>\n",
       "      <td>2003</td>\n",
       "      <td>N</td>\n",
       "    </tr>\n",
       "    <tr>\n",
       "      <th>4</th>\n",
       "      <td>Cust10004</td>\n",
       "      <td>2015-01-09</td>\n",
       "      <td>Single Vehicle Collision</td>\n",
       "      <td>Rear Collision</td>\n",
       "      <td>Minor Damage</td>\n",
       "      <td>Fire</td>\n",
       "      <td>State8</td>\n",
       "      <td>City6</td>\n",
       "      <td>Location 1695</td>\n",
       "      <td>10</td>\n",
       "      <td>...</td>\n",
       "      <td>100/300</td>\n",
       "      <td>500</td>\n",
       "      <td>1353.73</td>\n",
       "      <td>4279863</td>\n",
       "      <td>unmarried</td>\n",
       "      <td>Vehicle28633</td>\n",
       "      <td>CRV</td>\n",
       "      <td>Toyota</td>\n",
       "      <td>2010</td>\n",
       "      <td>N</td>\n",
       "    </tr>\n",
       "  </tbody>\n",
       "</table>\n",
       "<p>5 rows × 42 columns</p>\n",
       "</div>"
      ],
      "text/plain": [
       "  CustomerID DateOfIncident            TypeOfIncident TypeOfCollission  \\\n",
       "0  Cust10000     2015-02-03   Multi-vehicle Collision   Side Collision   \n",
       "1  Cust10001     2015-02-02   Multi-vehicle Collision   Side Collision   \n",
       "2  Cust10002     2015-01-15  Single Vehicle Collision   Side Collision   \n",
       "3  Cust10003     2015-01-19  Single Vehicle Collision   Side Collision   \n",
       "4  Cust10004     2015-01-09  Single Vehicle Collision   Rear Collision   \n",
       "\n",
       "  SeverityOfIncident AuthoritiesContacted IncidentState IncidentCity  \\\n",
       "0         Total Loss               Police        State7        City1   \n",
       "1         Total Loss               Police        State7        City5   \n",
       "2       Minor Damage                Other        State8        City6   \n",
       "3       Minor Damage                Other        State9        City6   \n",
       "4       Minor Damage                 Fire        State8        City6   \n",
       "\n",
       "  IncidentAddress  IncidentTime  ...  Policy_CombinedSingleLimit  \\\n",
       "0   Location 1311            17  ...                     100/300   \n",
       "1   Location 1311            10  ...                     100/300   \n",
       "2   Location 2081            22  ...                    500/1000   \n",
       "3   Location 2081            22  ...                    500/1000   \n",
       "4   Location 1695            10  ...                     100/300   \n",
       "\n",
       "  Policy_Deductible  PolicyAnnualPremium UmbrellaLimit InsuredRelationship  \\\n",
       "0              1000              1632.73             0       not-in-family   \n",
       "1              1000              1255.19             0       not-in-family   \n",
       "2               617              1373.38             0                wife   \n",
       "3               722              1337.60             0           own-child   \n",
       "4               500              1353.73       4279863           unmarried   \n",
       "\n",
       "      VehicleID  VehicleModel  VehicleMake  VehicleYOM  ReportedFraud  \n",
       "0  Vehicle26917            A5         Audi        2008              N  \n",
       "1  Vehicle15893            A5         Audi        2006              N  \n",
       "2   Vehicle5152         Jetta   Volkswagen        1999              N  \n",
       "3  Vehicle37363         Jetta   Volkswagen        2003              N  \n",
       "4  Vehicle28633           CRV       Toyota        2010              N  \n",
       "\n",
       "[5 rows x 42 columns]"
      ]
     },
     "execution_count": 23,
     "metadata": {},
     "output_type": "execute_result"
    }
   ],
   "source": [
    "df_new.head()"
   ]
  },
  {
   "cell_type": "code",
   "execution_count": 24,
   "metadata": {
    "colab": {
     "base_uri": "https://localhost:8080/"
    },
    "id": "MXWWJdN4Fnqw",
    "outputId": "97a0f232-757a-40e9-caf9-d6271e527282"
   },
   "outputs": [
    {
     "name": "stdout",
     "output_type": "stream",
     "text": [
      "<class 'pandas.core.frame.DataFrame'>\n",
      "Int64Index: 28836 entries, 0 to 28835\n",
      "Data columns (total 42 columns):\n",
      " #   Column                      Non-Null Count  Dtype  \n",
      "---  ------                      --------------  -----  \n",
      " 0   CustomerID                  28836 non-null  object \n",
      " 1   DateOfIncident              28836 non-null  object \n",
      " 2   TypeOfIncident              28836 non-null  object \n",
      " 3   TypeOfCollission            28836 non-null  object \n",
      " 4   SeverityOfIncident          28836 non-null  object \n",
      " 5   AuthoritiesContacted        28836 non-null  object \n",
      " 6   IncidentState               28836 non-null  object \n",
      " 7   IncidentCity                28836 non-null  object \n",
      " 8   IncidentAddress             28836 non-null  object \n",
      " 9   IncidentTime                28836 non-null  int64  \n",
      " 10  NumberOfVehicles            28836 non-null  int64  \n",
      " 11  PropertyDamage              28836 non-null  object \n",
      " 12  BodilyInjuries              28836 non-null  int64  \n",
      " 13  Witnesses                   28836 non-null  object \n",
      " 14  PoliceReport                28836 non-null  object \n",
      " 15  AmountOfTotalClaim          28836 non-null  object \n",
      " 16  AmountOfInjuryClaim         28836 non-null  int64  \n",
      " 17  AmountOfPropertyClaim       28836 non-null  int64  \n",
      " 18  AmountOfVehicleDamage       28836 non-null  int64  \n",
      " 19  InsuredAge                  28836 non-null  int64  \n",
      " 20  InsuredZipCode              28836 non-null  int64  \n",
      " 21  InsuredGender               28806 non-null  object \n",
      " 22  InsuredEducationLevel       28836 non-null  object \n",
      " 23  InsuredOccupation           28836 non-null  object \n",
      " 24  InsuredHobbies              28836 non-null  object \n",
      " 25  CapitalGains                28836 non-null  int64  \n",
      " 26  CapitalLoss                 28836 non-null  int64  \n",
      " 27  Country                     28834 non-null  object \n",
      " 28  InsurancePolicyNumber       28836 non-null  int64  \n",
      " 29  CustomerLoyaltyPeriod       28836 non-null  int64  \n",
      " 30  DateOfPolicyCoverage        28836 non-null  object \n",
      " 31  InsurancePolicyState        28836 non-null  object \n",
      " 32  Policy_CombinedSingleLimit  28836 non-null  object \n",
      " 33  Policy_Deductible           28836 non-null  int64  \n",
      " 34  PolicyAnnualPremium         28836 non-null  float64\n",
      " 35  UmbrellaLimit               28836 non-null  int64  \n",
      " 36  InsuredRelationship         28836 non-null  object \n",
      " 37  VehicleID                   28836 non-null  object \n",
      " 38  VehicleModel                28836 non-null  object \n",
      " 39  VehicleMake                 28836 non-null  object \n",
      " 40  VehicleYOM                  28836 non-null  object \n",
      " 41  ReportedFraud               28836 non-null  object \n",
      "dtypes: float64(1), int64(14), object(27)\n",
      "memory usage: 9.5+ MB\n"
     ]
    }
   ],
   "source": [
    "#To check data type of each column we can use info()\n",
    "df_new.info()"
   ]
  },
  {
   "cell_type": "code",
   "execution_count": 25,
   "metadata": {
    "id": "HdNzltUiKdX6",
    "scrolled": true
   },
   "outputs": [
    {
     "data": {
      "text/plain": [
       "Index(['CustomerID', 'DateOfIncident', 'TypeOfIncident', 'TypeOfCollission',\n",
       "       'SeverityOfIncident', 'AuthoritiesContacted', 'IncidentState',\n",
       "       'IncidentCity', 'IncidentAddress', 'IncidentTime', 'NumberOfVehicles',\n",
       "       'PropertyDamage', 'BodilyInjuries', 'Witnesses', 'PoliceReport',\n",
       "       'AmountOfTotalClaim', 'AmountOfInjuryClaim', 'AmountOfPropertyClaim',\n",
       "       'AmountOfVehicleDamage', 'InsuredAge', 'InsuredZipCode',\n",
       "       'InsuredGender', 'InsuredEducationLevel', 'InsuredOccupation',\n",
       "       'InsuredHobbies', 'CapitalGains', 'CapitalLoss', 'Country',\n",
       "       'InsurancePolicyNumber', 'CustomerLoyaltyPeriod',\n",
       "       'DateOfPolicyCoverage', 'InsurancePolicyState',\n",
       "       'Policy_CombinedSingleLimit', 'Policy_Deductible',\n",
       "       'PolicyAnnualPremium', 'UmbrellaLimit', 'InsuredRelationship',\n",
       "       'VehicleID', 'VehicleModel', 'VehicleMake', 'VehicleYOM',\n",
       "       'ReportedFraud'],\n",
       "      dtype='object')"
      ]
     },
     "execution_count": 25,
     "metadata": {},
     "output_type": "execute_result"
    }
   ],
   "source": [
    "df_new.columns"
   ]
  },
  {
   "cell_type": "code",
   "execution_count": 26,
   "metadata": {
    "scrolled": false
   },
   "outputs": [
    {
     "name": "stdout",
     "output_type": "stream",
     "text": [
      "(141, 42)\n",
      "(5162, 42)\n",
      "(31, 42)\n",
      "(10459, 42)\n",
      "(46, 42)\n",
      "(9805, 42)\n",
      "(50, 42)\n",
      "(0, 42)\n",
      "(0, 42)\n",
      "(50, 42)\n",
      "(0, 42)\n"
     ]
    }
   ],
   "source": [
    "print(df_new.loc[df_new['PolicyAnnualPremium']==-1].shape)\n",
    "print(df_new.loc[df_new['TypeOfCollission']=='?'].shape)\n",
    "print(df_new.loc[df_new['IncidentTime']==-5].shape)\n",
    "print(df_new.loc[df_new['PropertyDamage']=='?'].shape)\n",
    "print(df_new.loc[df_new['Witnesses']=='MISSINGVALUE'].shape)\n",
    "print(df_new.loc[df_new['PoliceReport']=='?'].shape)\n",
    "print(df_new.loc[df_new['AmountOfTotalClaim']=='MISSEDDATA'].shape)\n",
    "print(df_new[df_new['VehicleID']=='???'].shape)\n",
    "print(df_new[df_new['VehicleModel']=='???'].shape)\n",
    "print(df_new[df_new['VehicleMake']=='???'].shape)\n",
    "print(df_new[df_new['VehicleYOM']=='???'].shape)"
   ]
  },
  {
   "cell_type": "markdown",
   "metadata": {},
   "source": [
    "## Replacing NaN "
   ]
  },
  {
   "cell_type": "code",
   "execution_count": 27,
   "metadata": {},
   "outputs": [],
   "source": [
    "# We are replacing noise values with nan for imputing the missing values \n",
    "df_new.replace('?',np.nan,inplace=True)\n",
    "df_new.replace(-1.0,np.nan,inplace=True)\n",
    "df_new.replace(-5.0,np.nan,inplace=True)\n",
    "df_new.replace('MISSINGVAL',np.nan,inplace=True)\n",
    "df_new.replace('MISSINGVALUE',np.nan,inplace=True)\n",
    "df_new.replace('MISSEDDATA',np.nan,inplace=True)\n",
    "df_new.replace('???',np.nan,inplace=True)"
   ]
  },
  {
   "cell_type": "code",
   "execution_count": 28,
   "metadata": {},
   "outputs": [],
   "source": [
    "# I converted \n",
    "df_new.to_csv('merged_data1.csv',index=False)"
   ]
  },
  {
   "cell_type": "code",
   "execution_count": 29,
   "metadata": {
    "scrolled": false
   },
   "outputs": [
    {
     "data": {
      "text/plain": [
       "CustomerID                        0\n",
       "DateOfIncident                    0\n",
       "TypeOfIncident                    0\n",
       "TypeOfCollission               5162\n",
       "SeverityOfIncident                0\n",
       "AuthoritiesContacted              0\n",
       "IncidentState                     0\n",
       "IncidentCity                      0\n",
       "IncidentAddress                   0\n",
       "IncidentTime                     31\n",
       "NumberOfVehicles                  0\n",
       "PropertyDamage                10459\n",
       "BodilyInjuries                    0\n",
       "Witnesses                        46\n",
       "PoliceReport                   9805\n",
       "AmountOfTotalClaim               50\n",
       "AmountOfInjuryClaim               0\n",
       "AmountOfPropertyClaim             0\n",
       "AmountOfVehicleDamage             0\n",
       "InsuredAge                        0\n",
       "InsuredZipCode                    0\n",
       "InsuredGender                    30\n",
       "InsuredEducationLevel             0\n",
       "InsuredOccupation                 0\n",
       "InsuredHobbies                    0\n",
       "CapitalGains                      0\n",
       "CapitalLoss                       0\n",
       "Country                           2\n",
       "InsurancePolicyNumber             0\n",
       "CustomerLoyaltyPeriod             0\n",
       "DateOfPolicyCoverage              0\n",
       "InsurancePolicyState              0\n",
       "Policy_CombinedSingleLimit        0\n",
       "Policy_Deductible                 0\n",
       "PolicyAnnualPremium             141\n",
       "UmbrellaLimit                     0\n",
       "InsuredRelationship               0\n",
       "VehicleID                         0\n",
       "VehicleModel                      0\n",
       "VehicleMake                      50\n",
       "VehicleYOM                        0\n",
       "ReportedFraud                     0\n",
       "dtype: int64"
      ]
     },
     "execution_count": 29,
     "metadata": {},
     "output_type": "execute_result"
    }
   ],
   "source": [
    "df_new.isnull().sum()"
   ]
  },
  {
   "cell_type": "code",
   "execution_count": 30,
   "metadata": {},
   "outputs": [],
   "source": [
    "#Changing AmountOfTotalClaim datatype into int\n",
    "#we are replacing -2 for amount of total claim column because I need to impute this column later\n",
    "\n",
    "df_new['AmountOfTotalClaim']=df_new['AmountOfTotalClaim'].fillna(-2)\n",
    "df_new['AmountOfTotalClaim'] = df_new['AmountOfTotalClaim'].astype('int64')"
   ]
  },
  {
   "cell_type": "markdown",
   "metadata": {},
   "source": [
    "# Visualization"
   ]
  },
  {
   "cell_type": "markdown",
   "metadata": {},
   "source": [
    "### i)TypeOfIncident Column"
   ]
  },
  {
   "cell_type": "code",
   "execution_count": 31,
   "metadata": {},
   "outputs": [
    {
     "data": {
      "text/plain": [
       "(array([0, 1, 2, 3]),\n",
       " [Text(0, 0, 'Multi-vehicle Collision'),\n",
       "  Text(1, 0, 'Single Vehicle Collision'),\n",
       "  Text(2, 0, 'Parked Car'),\n",
       "  Text(3, 0, 'Vehicle Theft')])"
      ]
     },
     "execution_count": 31,
     "metadata": {},
     "output_type": "execute_result"
    },
    {
     "data": {
      "image/png": "[encoded data removed]",
      "text/plain": [
       "<Figure size 613.736x500 with 1 Axes>"
      ]
     },
     "metadata": {},
     "output_type": "display_data"
    }
   ],
   "source": [
    "sns.catplot(data=df_new,x='TypeOfIncident',hue='ReportedFraud',kind='count')\n",
    "plt.xticks(rotation=90)"
   ]
  },
  {
   "cell_type": "raw",
   "metadata": {},
   "source": [
    "Summary for TypeOfIncident column:\n",
    "        i)This column is about the type of incidents happend (Multi vehicle,single,Vehicle theft and Parked car)\n",
    "        ii)From the visualization multivehicle and singlevehicle incident is higher than the other incidents\n",
    "        iii)Multivehicle and singlevechicle incident having more fraud insurance  claim comparing to other two incidents"
   ]
  },
  {
   "cell_type": "markdown",
   "metadata": {},
   "source": [
    "### ii)TypeOfCollission Column"
   ]
  },
  {
   "cell_type": "code",
   "execution_count": 32,
   "metadata": {},
   "outputs": [
    {
     "data": {
      "text/plain": [
       "<seaborn.axisgrid.FacetGrid at 0x1a8c36e8e80>"
      ]
     },
     "execution_count": 32,
     "metadata": {},
     "output_type": "execute_result"
    },
    {
     "data": {
      "image/png": "[encoded data removed]",
      "text/plain": [
       "<Figure size 613.736x500 with 1 Axes>"
      ]
     },
     "metadata": {},
     "output_type": "display_data"
    }
   ],
   "source": [
    "sns.catplot(data=df_new,x='TypeOfCollission',hue='ReportedFraud',kind='count')"
   ]
  },
  {
   "cell_type": "raw",
   "metadata": {},
   "source": [
    "Summary for TypeOfCollision column:\n",
    "        i)This column is about the damage and also which side that damage happend(Side,rear,Front)\n",
    "        ii)From the visualization Rear collision is slightly higher than other types\n",
    "        iii)Rear collision having more fraud insurance claim comparing to other two incidents\n",
    "        iv)Side and front collision nearly same"
   ]
  },
  {
   "cell_type": "markdown",
   "metadata": {},
   "source": [
    "### iii)SeverityOfIncident column"
   ]
  },
  {
   "cell_type": "code",
   "execution_count": 33,
   "metadata": {},
   "outputs": [
    {
     "data": {
      "text/plain": [
       "(array([0, 1, 2, 3]),\n",
       " [Text(0, 0, 'Total Loss'),\n",
       "  Text(1, 0, 'Minor Damage'),\n",
       "  Text(2, 0, 'Major Damage'),\n",
       "  Text(3, 0, 'Trivial Damage')])"
      ]
     },
     "execution_count": 33,
     "metadata": {},
     "output_type": "execute_result"
    },
    {
     "data": {
      "image/png": "[encoded data removed]",
      "text/plain": [
       "<Figure size 613.736x500 with 1 Axes>"
      ]
     },
     "metadata": {},
     "output_type": "display_data"
    }
   ],
   "source": [
    "sns.catplot(data=df_new,x='SeverityOfIncident',hue='ReportedFraud',kind='count')\n",
    "plt.xticks(rotation=90)"
   ]
  },
  {
   "cell_type": "raw",
   "metadata": {},
   "source": [
    "Summary for SeverityOfIncident column:\n",
    "        i)This column is about the type of damage(Total loss,minor,major,trivial)\n",
    "        ii)trivial and minor damage means it is less damage.Minor damage and total loss is a high damage\n",
    "        iii)From the bar graph Minor damage is higer\n",
    "        iv)while comparing to the fraud claim, major damage has higher fraud insurance claim.Also trivial damage \n",
    "           has less amount of fraud claim"
   ]
  },
  {
   "cell_type": "markdown",
   "metadata": {},
   "source": [
    "### iv)AuthoritiesContacted"
   ]
  },
  {
   "cell_type": "code",
   "execution_count": 34,
   "metadata": {
    "scrolled": false
   },
   "outputs": [
    {
     "data": {
      "text/plain": [
       "(array([0, 1, 2, 3, 4]),\n",
       " [Text(0, 0, 'Police'),\n",
       "  Text(1, 0, 'Other'),\n",
       "  Text(2, 0, 'Fire'),\n",
       "  Text(3, 0, 'Ambulance'),\n",
       "  Text(4, 0, 'None')])"
      ]
     },
     "execution_count": 34,
     "metadata": {},
     "output_type": "execute_result"
    },
    {
     "data": {
      "image/png": "[encoded data removed]",
      "text/plain": [
       "<Figure size 613.736x500 with 1 Axes>"
      ]
     },
     "metadata": {},
     "output_type": "display_data"
    }
   ],
   "source": [
    "sns.catplot(data=df_new,x='AuthoritiesContacted',hue='ReportedFraud',kind='count')\n",
    "plt.xticks(rotation=90)"
   ]
  },
  {
   "cell_type": "raw",
   "metadata": {},
   "source": [
    "Summary for AuthoritiesContacted column:\n",
    "        i)This column tells after accident which authority is contacted \n",
    "        ii)From graph police is highly contacted authority \n",
    "        iii)None means after accident no authority is contacted"
   ]
  },
  {
   "cell_type": "markdown",
   "metadata": {},
   "source": [
    "### v)IncidentCity Column"
   ]
  },
  {
   "cell_type": "code",
   "execution_count": 35,
   "metadata": {
    "scrolled": false
   },
   "outputs": [
    {
     "data": {
      "text/plain": [
       "<seaborn.axisgrid.FacetGrid at 0x1a8c42c6dc0>"
      ]
     },
     "execution_count": 35,
     "metadata": {},
     "output_type": "execute_result"
    },
    {
     "data": {
      "image/png": "[encoded data removed]",
      "text/plain": [
       "<Figure size 613.736x500 with 1 Axes>"
      ]
     },
     "metadata": {},
     "output_type": "display_data"
    }
   ],
   "source": [
    "sns.catplot(data=df_new,x='IncidentCity',hue='ReportedFraud',kind='count')\n"
   ]
  },
  {
   "cell_type": "markdown",
   "metadata": {},
   "source": [
    "### vi)NumberOfVehicles Column"
   ]
  },
  {
   "cell_type": "code",
   "execution_count": 36,
   "metadata": {
    "scrolled": false
   },
   "outputs": [
    {
     "data": {
      "text/plain": [
       "<seaborn.axisgrid.FacetGrid at 0x1a8c382f9d0>"
      ]
     },
     "execution_count": 36,
     "metadata": {},
     "output_type": "execute_result"
    },
    {
     "data": {
      "image/png": "[encoded data removed]",
      "text/plain": [
       "<Figure size 613.736x500 with 1 Axes>"
      ]
     },
     "metadata": {},
     "output_type": "display_data"
    }
   ],
   "source": [
    "sns.catplot(data=df_new,x='NumberOfVehicles',hue='ReportedFraud',kind='count')"
   ]
  },
  {
   "cell_type": "raw",
   "metadata": {},
   "source": [
    "Summary for NumberOfVehicles column:\n",
    "        i)This column tells how many vehicles involved in accident \n",
    "        ii)From graph 1 (single) vehicle is higher than others also,compared to fraud claim 1 vehicle have higher fraud claim.\n",
    "        iii)4 vehicle is less fraud claim comparing to all"
   ]
  },
  {
   "cell_type": "markdown",
   "metadata": {},
   "source": [
    "### vii)InsuredGender Column"
   ]
  },
  {
   "cell_type": "code",
   "execution_count": 37,
   "metadata": {},
   "outputs": [
    {
     "data": {
      "text/plain": [
       "<seaborn.axisgrid.FacetGrid at 0x1a8c4333820>"
      ]
     },
     "execution_count": 37,
     "metadata": {},
     "output_type": "execute_result"
    },
    {
     "data": {
      "image/png": "[encoded data removed]",
      "text/plain": [
       "<Figure size 613.736x500 with 1 Axes>"
      ]
     },
     "metadata": {},
     "output_type": "display_data"
    }
   ],
   "source": [
    "sns.catplot(data=df_new,x='InsuredGender',hue='ReportedFraud',kind='count')"
   ]
  },
  {
   "cell_type": "markdown",
   "metadata": {},
   "source": [
    "### viii) InsuredAge "
   ]
  },
  {
   "cell_type": "code",
   "execution_count": 302,
   "metadata": {},
   "outputs": [
    {
     "data": {
      "text/plain": [
       "<AxesSubplot:xlabel='InsuredAge', ylabel='Density'>"
      ]
     },
     "execution_count": 302,
     "metadata": {},
     "output_type": "execute_result"
    },
    {
     "data": {
      "image/png": "[encoded data removed]",
      "text/plain": [
       "<Figure size 640x480 with 1 Axes>"
      ]
     },
     "metadata": {},
     "output_type": "display_data"
    }
   ],
   "source": [
    "#df_new[['InsuredAge','AmountOfTotalClaim']].hist(figsize=(12,5),kde=True)\n",
    "sns.distplot(df_new['InsuredAge'])"
   ]
  },
  {
   "cell_type": "markdown",
   "metadata": {},
   "source": [
    "## Missing value Treatment"
   ]
  },
  {
   "cell_type": "markdown",
   "metadata": {},
   "source": [
    "### i) Missing value treatment for 'PoliceReport' column"
   ]
  },
  {
   "cell_type": "code",
   "execution_count": 40,
   "metadata": {},
   "outputs": [],
   "source": [
    "# We are going to predict police report column . Train claim dataset having this column.\n",
    "#so we are going to take this dataset and make prediction  for the particular column\n",
    "p1=pd.read_csv('Train_claim.csv')"
   ]
  },
  {
   "cell_type": "code",
   "execution_count": 41,
   "metadata": {},
   "outputs": [],
   "source": [
    "p1.replace('?',np.nan,inplace=True)"
   ]
  },
  {
   "cell_type": "code",
   "execution_count": 42,
   "metadata": {},
   "outputs": [
    {
     "data": {
      "text/plain": [
       "Index(['CustomerID', 'DateOfIncident', 'TypeOfIncident', 'TypeOfCollission',\n",
       "       'SeverityOfIncident', 'AuthoritiesContacted', 'IncidentState',\n",
       "       'IncidentCity', 'IncidentAddress', 'PropertyDamage', 'Witnesses',\n",
       "       'PoliceReport', 'AmountOfTotalClaim'],\n",
       "      dtype='object')"
      ]
     },
     "execution_count": 42,
     "metadata": {},
     "output_type": "execute_result"
    }
   ],
   "source": [
    "cat=p1.select_dtypes(include=['object'])\n",
    "cat.columns"
   ]
  },
  {
   "cell_type": "code",
   "execution_count": 43,
   "metadata": {},
   "outputs": [
    {
     "data": {
      "text/plain": [
       "(19031, 19)"
      ]
     },
     "execution_count": 43,
     "metadata": {},
     "output_type": "execute_result"
    }
   ],
   "source": [
    "#we take values from police report column which having not null values\n",
    "#We take this value for training purpose\n",
    "not_null=p1.loc[p1['PoliceReport'].notnull()]\n",
    "not_null.shape"
   ]
  },
  {
   "cell_type": "code",
   "execution_count": 44,
   "metadata": {},
   "outputs": [],
   "source": [
    "#copying original file for other process\n",
    "n1=not_null.copy()"
   ]
  },
  {
   "cell_type": "code",
   "execution_count": 45,
   "metadata": {},
   "outputs": [],
   "source": [
    "# Converting categorical to numerical \n",
    "cat_col=['DateOfIncident', 'TypeOfIncident', 'TypeOfCollission',\n",
    "       'SeverityOfIncident', 'AuthoritiesContacted', 'IncidentState',\n",
    "       'IncidentCity', 'IncidentAddress', 'PropertyDamage', 'Witnesses',\n",
    "       'PoliceReport', 'AmountOfTotalClaim']\n",
    "from sklearn.preprocessing import LabelEncoder\n",
    "le = LabelEncoder()\n",
    "\n",
    "for col in cat_col:\n",
    "    n1[col]= le.fit_transform(n1[col])"
   ]
  },
  {
   "cell_type": "code",
   "execution_count": 46,
   "metadata": {},
   "outputs": [],
   "source": [
    "#Droping 'polciereport' column and assign to new valriable\n",
    "not_null=not_null.drop(['PoliceReport'],axis=1)\n",
    "\n",
    "#Assigning the numerical value for 'policereport' column\n",
    "not_null['PoliceReport']=n1['PoliceReport']"
   ]
  },
  {
   "cell_type": "code",
   "execution_count": 47,
   "metadata": {
    "scrolled": true
   },
   "outputs": [
    {
     "data": {
      "text/html": [
       "<div>\n",
       "<style scoped>\n",
       "    .dataframe tbody tr th:only-of-type {\n",
       "        vertical-align: middle;\n",
       "    }\n",
       "\n",
       "    .dataframe tbody tr th {\n",
       "        vertical-align: top;\n",
       "    }\n",
       "\n",
       "    .dataframe thead th {\n",
       "        text-align: right;\n",
       "    }\n",
       "</style>\n",
       "<table border=\"1\" class=\"dataframe\">\n",
       "  <thead>\n",
       "    <tr style=\"text-align: right;\">\n",
       "      <th></th>\n",
       "      <th>CustomerID</th>\n",
       "      <th>DateOfIncident</th>\n",
       "      <th>TypeOfIncident</th>\n",
       "      <th>TypeOfCollission</th>\n",
       "      <th>SeverityOfIncident</th>\n",
       "      <th>AuthoritiesContacted</th>\n",
       "      <th>IncidentState</th>\n",
       "      <th>IncidentCity</th>\n",
       "      <th>IncidentAddress</th>\n",
       "      <th>IncidentTime</th>\n",
       "      <th>NumberOfVehicles</th>\n",
       "      <th>PropertyDamage</th>\n",
       "      <th>BodilyInjuries</th>\n",
       "      <th>Witnesses</th>\n",
       "      <th>AmountOfTotalClaim</th>\n",
       "      <th>AmountOfInjuryClaim</th>\n",
       "      <th>AmountOfPropertyClaim</th>\n",
       "      <th>AmountOfVehicleDamage</th>\n",
       "      <th>PoliceReport</th>\n",
       "    </tr>\n",
       "  </thead>\n",
       "  <tbody>\n",
       "    <tr>\n",
       "      <th>1</th>\n",
       "      <td>Cust10001</td>\n",
       "      <td>2015-02-02</td>\n",
       "      <td>Multi-vehicle Collision</td>\n",
       "      <td>Side Collision</td>\n",
       "      <td>Total Loss</td>\n",
       "      <td>Police</td>\n",
       "      <td>State7</td>\n",
       "      <td>City5</td>\n",
       "      <td>Location 1311</td>\n",
       "      <td>10</td>\n",
       "      <td>3</td>\n",
       "      <td>YES</td>\n",
       "      <td>2</td>\n",
       "      <td>1</td>\n",
       "      <td>61382</td>\n",
       "      <td>15560</td>\n",
       "      <td>5919</td>\n",
       "      <td>39903</td>\n",
       "      <td>1</td>\n",
       "    </tr>\n",
       "    <tr>\n",
       "      <th>2</th>\n",
       "      <td>Cust10002</td>\n",
       "      <td>2015-01-15</td>\n",
       "      <td>Single Vehicle Collision</td>\n",
       "      <td>Side Collision</td>\n",
       "      <td>Minor Damage</td>\n",
       "      <td>Other</td>\n",
       "      <td>State8</td>\n",
       "      <td>City6</td>\n",
       "      <td>Location 2081</td>\n",
       "      <td>22</td>\n",
       "      <td>1</td>\n",
       "      <td>YES</td>\n",
       "      <td>2</td>\n",
       "      <td>3</td>\n",
       "      <td>66755</td>\n",
       "      <td>11630</td>\n",
       "      <td>11630</td>\n",
       "      <td>43495</td>\n",
       "      <td>0</td>\n",
       "    </tr>\n",
       "    <tr>\n",
       "      <th>3</th>\n",
       "      <td>Cust10003</td>\n",
       "      <td>2015-01-19</td>\n",
       "      <td>Single Vehicle Collision</td>\n",
       "      <td>Side Collision</td>\n",
       "      <td>Minor Damage</td>\n",
       "      <td>Other</td>\n",
       "      <td>State9</td>\n",
       "      <td>City6</td>\n",
       "      <td>Location 2081</td>\n",
       "      <td>22</td>\n",
       "      <td>1</td>\n",
       "      <td>YES</td>\n",
       "      <td>2</td>\n",
       "      <td>3</td>\n",
       "      <td>66243</td>\n",
       "      <td>12003</td>\n",
       "      <td>12003</td>\n",
       "      <td>42237</td>\n",
       "      <td>0</td>\n",
       "    </tr>\n",
       "    <tr>\n",
       "      <th>4</th>\n",
       "      <td>Cust10004</td>\n",
       "      <td>2015-01-09</td>\n",
       "      <td>Single Vehicle Collision</td>\n",
       "      <td>Rear Collision</td>\n",
       "      <td>Minor Damage</td>\n",
       "      <td>Fire</td>\n",
       "      <td>State8</td>\n",
       "      <td>City6</td>\n",
       "      <td>Location 1695</td>\n",
       "      <td>10</td>\n",
       "      <td>1</td>\n",
       "      <td>NO</td>\n",
       "      <td>2</td>\n",
       "      <td>1</td>\n",
       "      <td>53544</td>\n",
       "      <td>8829</td>\n",
       "      <td>7234</td>\n",
       "      <td>37481</td>\n",
       "      <td>1</td>\n",
       "    </tr>\n",
       "    <tr>\n",
       "      <th>6</th>\n",
       "      <td>Cust10006</td>\n",
       "      <td>2015-01-30</td>\n",
       "      <td>Single Vehicle Collision</td>\n",
       "      <td>Front Collision</td>\n",
       "      <td>Minor Damage</td>\n",
       "      <td>Ambulance</td>\n",
       "      <td>State5</td>\n",
       "      <td>City4</td>\n",
       "      <td>Location 1440</td>\n",
       "      <td>20</td>\n",
       "      <td>1</td>\n",
       "      <td>NaN</td>\n",
       "      <td>0</td>\n",
       "      <td>2</td>\n",
       "      <td>77453</td>\n",
       "      <td>6476</td>\n",
       "      <td>12822</td>\n",
       "      <td>58155</td>\n",
       "      <td>0</td>\n",
       "    </tr>\n",
       "  </tbody>\n",
       "</table>\n",
       "</div>"
      ],
      "text/plain": [
       "  CustomerID DateOfIncident            TypeOfIncident TypeOfCollission  \\\n",
       "1  Cust10001     2015-02-02   Multi-vehicle Collision   Side Collision   \n",
       "2  Cust10002     2015-01-15  Single Vehicle Collision   Side Collision   \n",
       "3  Cust10003     2015-01-19  Single Vehicle Collision   Side Collision   \n",
       "4  Cust10004     2015-01-09  Single Vehicle Collision   Rear Collision   \n",
       "6  Cust10006     2015-01-30  Single Vehicle Collision  Front Collision   \n",
       "\n",
       "  SeverityOfIncident AuthoritiesContacted IncidentState IncidentCity  \\\n",
       "1         Total Loss               Police        State7        City5   \n",
       "2       Minor Damage                Other        State8        City6   \n",
       "3       Minor Damage                Other        State9        City6   \n",
       "4       Minor Damage                 Fire        State8        City6   \n",
       "6       Minor Damage            Ambulance        State5        City4   \n",
       "\n",
       "  IncidentAddress  IncidentTime  NumberOfVehicles PropertyDamage  \\\n",
       "1   Location 1311            10                 3            YES   \n",
       "2   Location 2081            22                 1            YES   \n",
       "3   Location 2081            22                 1            YES   \n",
       "4   Location 1695            10                 1             NO   \n",
       "6   Location 1440            20                 1            NaN   \n",
       "\n",
       "   BodilyInjuries Witnesses AmountOfTotalClaim  AmountOfInjuryClaim  \\\n",
       "1               2         1              61382                15560   \n",
       "2               2         3              66755                11630   \n",
       "3               2         3              66243                12003   \n",
       "4               2         1              53544                 8829   \n",
       "6               0         2              77453                 6476   \n",
       "\n",
       "   AmountOfPropertyClaim  AmountOfVehicleDamage  PoliceReport  \n",
       "1                   5919                  39903             1  \n",
       "2                  11630                  43495             0  \n",
       "3                  12003                  42237             0  \n",
       "4                   7234                  37481             1  \n",
       "6                  12822                  58155             0  "
      ]
     },
     "execution_count": 47,
     "metadata": {},
     "output_type": "execute_result"
    }
   ],
   "source": [
    "not_null.head()"
   ]
  },
  {
   "cell_type": "code",
   "execution_count": 48,
   "metadata": {},
   "outputs": [],
   "source": [
    "#Creating model for predicting police report column"
   ]
  },
  {
   "cell_type": "code",
   "execution_count": 49,
   "metadata": {},
   "outputs": [],
   "source": [
    "from sklearn.linear_model import LogisticRegression\n",
    "from sklearn.model_selection import train_test_split\n",
    "from sklearn.metrics import accuracy_score"
   ]
  },
  {
   "cell_type": "code",
   "execution_count": 50,
   "metadata": {},
   "outputs": [],
   "source": [
    "x=n1.drop(['PoliceReport','CustomerID'],axis=1)\n",
    "y=n1['PoliceReport']"
   ]
  },
  {
   "cell_type": "code",
   "execution_count": 51,
   "metadata": {},
   "outputs": [],
   "source": [
    "X_train,X_test,Y_train,Y_test=train_test_split(x,y,test_size=0.1,random_state=0)"
   ]
  },
  {
   "cell_type": "code",
   "execution_count": 52,
   "metadata": {},
   "outputs": [],
   "source": [
    "# creating  logistic regression model"
   ]
  },
  {
   "cell_type": "code",
   "execution_count": 53,
   "metadata": {},
   "outputs": [
    {
     "data": {
      "text/plain": [
       "LogisticRegression()"
      ]
     },
     "execution_count": 53,
     "metadata": {},
     "output_type": "execute_result"
    }
   ],
   "source": [
    "logi=LogisticRegression()\n",
    "logi.fit(X_train,Y_train)"
   ]
  },
  {
   "cell_type": "code",
   "execution_count": 54,
   "metadata": {},
   "outputs": [],
   "source": [
    "pred_train=logi.predict(X_train)\n",
    "pred_test=logi.predict(X_test)"
   ]
  },
  {
   "cell_type": "code",
   "execution_count": 55,
   "metadata": {},
   "outputs": [
    {
     "name": "stdout",
     "output_type": "stream",
     "text": [
      "0.5418345302738367\n",
      "0.532563025210084\n"
     ]
    }
   ],
   "source": [
    "print(accuracy_score(Y_train,pred_train))\n",
    "print(accuracy_score(Y_test,pred_test))"
   ]
  },
  {
   "cell_type": "code",
   "execution_count": 56,
   "metadata": {},
   "outputs": [],
   "source": [
    "# Creating Decision tree model"
   ]
  },
  {
   "cell_type": "code",
   "execution_count": 57,
   "metadata": {},
   "outputs": [],
   "source": [
    "from sklearn.tree import DecisionTreeClassifier"
   ]
  },
  {
   "cell_type": "code",
   "execution_count": 58,
   "metadata": {},
   "outputs": [],
   "source": [
    "clf=DecisionTreeClassifier(criterion='gini')"
   ]
  },
  {
   "cell_type": "code",
   "execution_count": 59,
   "metadata": {},
   "outputs": [],
   "source": [
    "clf.fit(X_train,Y_train)\n",
    "pred_train=clf.predict(X_train)\n",
    "pred_test=clf.predict(X_test)"
   ]
  },
  {
   "cell_type": "code",
   "execution_count": 60,
   "metadata": {},
   "outputs": [
    {
     "name": "stdout",
     "output_type": "stream",
     "text": [
      "1.0\n",
      "0.743172268907563\n"
     ]
    }
   ],
   "source": [
    "print(accuracy_score(Y_train,pred_train))\n",
    "print(accuracy_score(Y_test,pred_test))"
   ]
  },
  {
   "cell_type": "code",
   "execution_count": 61,
   "metadata": {},
   "outputs": [],
   "source": [
    "# Creating Random forest model"
   ]
  },
  {
   "cell_type": "code",
   "execution_count": 62,
   "metadata": {},
   "outputs": [],
   "source": [
    "from sklearn.ensemble import RandomForestClassifier"
   ]
  },
  {
   "cell_type": "code",
   "execution_count": 63,
   "metadata": {},
   "outputs": [],
   "source": [
    "classi=RandomForestClassifier(n_estimators=40,criterion='entropy')"
   ]
  },
  {
   "cell_type": "code",
   "execution_count": 64,
   "metadata": {},
   "outputs": [
    {
     "data": {
      "text/plain": [
       "RandomForestClassifier(criterion='entropy', n_estimators=40)"
      ]
     },
     "execution_count": 64,
     "metadata": {},
     "output_type": "execute_result"
    }
   ],
   "source": [
    "classi.fit(X_train,Y_train)"
   ]
  },
  {
   "cell_type": "code",
   "execution_count": 65,
   "metadata": {},
   "outputs": [],
   "source": [
    "pred_train=classi.predict(X_train)\n",
    "pred_test=classi.predict(X_test)"
   ]
  },
  {
   "cell_type": "code",
   "execution_count": 66,
   "metadata": {
    "scrolled": false
   },
   "outputs": [
    {
     "name": "stdout",
     "output_type": "stream",
     "text": [
      "0.9997664506335027\n",
      "0.8293067226890757\n"
     ]
    }
   ],
   "source": [
    "print(accuracy_score(Y_train,pred_train))\n",
    "print(accuracy_score(Y_test,pred_test))"
   ]
  },
  {
   "cell_type": "code",
   "execution_count": 67,
   "metadata": {
    "scrolled": true
   },
   "outputs": [
    {
     "data": {
      "text/plain": [
       "(9805, 19)"
      ]
     },
     "execution_count": 67,
     "metadata": {},
     "output_type": "execute_result"
    }
   ],
   "source": [
    "#we are successfully train the model.\n",
    "#Now we need to predict our null data by using our model.For that we use isnull()\n",
    "null=p1.loc[p1['PoliceReport'].isnull()]\n",
    "null.shape"
   ]
  },
  {
   "cell_type": "code",
   "execution_count": 68,
   "metadata": {},
   "outputs": [],
   "source": [
    "x1=null.drop(['PoliceReport','CustomerID'],axis=1)"
   ]
  },
  {
   "cell_type": "code",
   "execution_count": 69,
   "metadata": {},
   "outputs": [],
   "source": [
    "# Coverting categorical into numerical\n",
    "cat_col=['DateOfIncident', 'TypeOfIncident', 'TypeOfCollission',\n",
    "       'SeverityOfIncident', 'AuthoritiesContacted', 'IncidentState',\n",
    "       'IncidentCity', 'IncidentAddress', 'PropertyDamage', 'Witnesses','AmountOfTotalClaim']\n",
    "from sklearn.preprocessing import LabelEncoder\n",
    "le = LabelEncoder()\n",
    "\n",
    "for col in cat_col:\n",
    "    x1[col]= le.fit_transform(x1[col])"
   ]
  },
  {
   "cell_type": "code",
   "execution_count": 70,
   "metadata": {},
   "outputs": [],
   "source": [
    "#Predicting values for police report column\n",
    "prediction=classi.predict(x1)"
   ]
  },
  {
   "cell_type": "code",
   "execution_count": 71,
   "metadata": {},
   "outputs": [
    {
     "data": {
      "text/plain": [
       "array([1, 1, 0, ..., 1, 0, 0])"
      ]
     },
     "execution_count": 71,
     "metadata": {},
     "output_type": "execute_result"
    }
   ],
   "source": [
    "prediction"
   ]
  },
  {
   "cell_type": "code",
   "execution_count": 72,
   "metadata": {},
   "outputs": [],
   "source": [
    "null.drop(['PoliceReport'],axis=1,inplace=True)\n",
    "null['PoliceReport']=prediction"
   ]
  },
  {
   "cell_type": "code",
   "execution_count": 73,
   "metadata": {},
   "outputs": [
    {
     "data": {
      "text/plain": [
       "(28836, 19)"
      ]
     },
     "execution_count": 73,
     "metadata": {},
     "output_type": "execute_result"
    }
   ],
   "source": [
    "n_final=pd.concat([not_null,null])\n",
    "n_final.shape"
   ]
  },
  {
   "cell_type": "code",
   "execution_count": 74,
   "metadata": {},
   "outputs": [
    {
     "data": {
      "text/html": [
       "<div>\n",
       "<style scoped>\n",
       "    .dataframe tbody tr th:only-of-type {\n",
       "        vertical-align: middle;\n",
       "    }\n",
       "\n",
       "    .dataframe tbody tr th {\n",
       "        vertical-align: top;\n",
       "    }\n",
       "\n",
       "    .dataframe thead th {\n",
       "        text-align: right;\n",
       "    }\n",
       "</style>\n",
       "<table border=\"1\" class=\"dataframe\">\n",
       "  <thead>\n",
       "    <tr style=\"text-align: right;\">\n",
       "      <th></th>\n",
       "      <th>CustomerID</th>\n",
       "      <th>DateOfIncident</th>\n",
       "      <th>TypeOfIncident</th>\n",
       "      <th>TypeOfCollission</th>\n",
       "      <th>SeverityOfIncident</th>\n",
       "      <th>AuthoritiesContacted</th>\n",
       "      <th>IncidentState</th>\n",
       "      <th>IncidentCity</th>\n",
       "      <th>IncidentAddress</th>\n",
       "      <th>IncidentTime</th>\n",
       "      <th>NumberOfVehicles</th>\n",
       "      <th>PropertyDamage</th>\n",
       "      <th>BodilyInjuries</th>\n",
       "      <th>Witnesses</th>\n",
       "      <th>AmountOfTotalClaim</th>\n",
       "      <th>AmountOfInjuryClaim</th>\n",
       "      <th>AmountOfPropertyClaim</th>\n",
       "      <th>AmountOfVehicleDamage</th>\n",
       "      <th>PoliceReport</th>\n",
       "    </tr>\n",
       "  </thead>\n",
       "  <tbody>\n",
       "    <tr>\n",
       "      <th>1</th>\n",
       "      <td>Cust10001</td>\n",
       "      <td>2015-02-02</td>\n",
       "      <td>Multi-vehicle Collision</td>\n",
       "      <td>Side Collision</td>\n",
       "      <td>Total Loss</td>\n",
       "      <td>Police</td>\n",
       "      <td>State7</td>\n",
       "      <td>City5</td>\n",
       "      <td>Location 1311</td>\n",
       "      <td>10</td>\n",
       "      <td>3</td>\n",
       "      <td>YES</td>\n",
       "      <td>2</td>\n",
       "      <td>1</td>\n",
       "      <td>61382</td>\n",
       "      <td>15560</td>\n",
       "      <td>5919</td>\n",
       "      <td>39903</td>\n",
       "      <td>1</td>\n",
       "    </tr>\n",
       "    <tr>\n",
       "      <th>2</th>\n",
       "      <td>Cust10002</td>\n",
       "      <td>2015-01-15</td>\n",
       "      <td>Single Vehicle Collision</td>\n",
       "      <td>Side Collision</td>\n",
       "      <td>Minor Damage</td>\n",
       "      <td>Other</td>\n",
       "      <td>State8</td>\n",
       "      <td>City6</td>\n",
       "      <td>Location 2081</td>\n",
       "      <td>22</td>\n",
       "      <td>1</td>\n",
       "      <td>YES</td>\n",
       "      <td>2</td>\n",
       "      <td>3</td>\n",
       "      <td>66755</td>\n",
       "      <td>11630</td>\n",
       "      <td>11630</td>\n",
       "      <td>43495</td>\n",
       "      <td>0</td>\n",
       "    </tr>\n",
       "    <tr>\n",
       "      <th>3</th>\n",
       "      <td>Cust10003</td>\n",
       "      <td>2015-01-19</td>\n",
       "      <td>Single Vehicle Collision</td>\n",
       "      <td>Side Collision</td>\n",
       "      <td>Minor Damage</td>\n",
       "      <td>Other</td>\n",
       "      <td>State9</td>\n",
       "      <td>City6</td>\n",
       "      <td>Location 2081</td>\n",
       "      <td>22</td>\n",
       "      <td>1</td>\n",
       "      <td>YES</td>\n",
       "      <td>2</td>\n",
       "      <td>3</td>\n",
       "      <td>66243</td>\n",
       "      <td>12003</td>\n",
       "      <td>12003</td>\n",
       "      <td>42237</td>\n",
       "      <td>0</td>\n",
       "    </tr>\n",
       "    <tr>\n",
       "      <th>4</th>\n",
       "      <td>Cust10004</td>\n",
       "      <td>2015-01-09</td>\n",
       "      <td>Single Vehicle Collision</td>\n",
       "      <td>Rear Collision</td>\n",
       "      <td>Minor Damage</td>\n",
       "      <td>Fire</td>\n",
       "      <td>State8</td>\n",
       "      <td>City6</td>\n",
       "      <td>Location 1695</td>\n",
       "      <td>10</td>\n",
       "      <td>1</td>\n",
       "      <td>NO</td>\n",
       "      <td>2</td>\n",
       "      <td>1</td>\n",
       "      <td>53544</td>\n",
       "      <td>8829</td>\n",
       "      <td>7234</td>\n",
       "      <td>37481</td>\n",
       "      <td>1</td>\n",
       "    </tr>\n",
       "    <tr>\n",
       "      <th>6</th>\n",
       "      <td>Cust10006</td>\n",
       "      <td>2015-01-30</td>\n",
       "      <td>Single Vehicle Collision</td>\n",
       "      <td>Front Collision</td>\n",
       "      <td>Minor Damage</td>\n",
       "      <td>Ambulance</td>\n",
       "      <td>State5</td>\n",
       "      <td>City4</td>\n",
       "      <td>Location 1440</td>\n",
       "      <td>20</td>\n",
       "      <td>1</td>\n",
       "      <td>NaN</td>\n",
       "      <td>0</td>\n",
       "      <td>2</td>\n",
       "      <td>77453</td>\n",
       "      <td>6476</td>\n",
       "      <td>12822</td>\n",
       "      <td>58155</td>\n",
       "      <td>0</td>\n",
       "    </tr>\n",
       "  </tbody>\n",
       "</table>\n",
       "</div>"
      ],
      "text/plain": [
       "  CustomerID DateOfIncident            TypeOfIncident TypeOfCollission  \\\n",
       "1  Cust10001     2015-02-02   Multi-vehicle Collision   Side Collision   \n",
       "2  Cust10002     2015-01-15  Single Vehicle Collision   Side Collision   \n",
       "3  Cust10003     2015-01-19  Single Vehicle Collision   Side Collision   \n",
       "4  Cust10004     2015-01-09  Single Vehicle Collision   Rear Collision   \n",
       "6  Cust10006     2015-01-30  Single Vehicle Collision  Front Collision   \n",
       "\n",
       "  SeverityOfIncident AuthoritiesContacted IncidentState IncidentCity  \\\n",
       "1         Total Loss               Police        State7        City5   \n",
       "2       Minor Damage                Other        State8        City6   \n",
       "3       Minor Damage                Other        State9        City6   \n",
       "4       Minor Damage                 Fire        State8        City6   \n",
       "6       Minor Damage            Ambulance        State5        City4   \n",
       "\n",
       "  IncidentAddress  IncidentTime  NumberOfVehicles PropertyDamage  \\\n",
       "1   Location 1311            10                 3            YES   \n",
       "2   Location 2081            22                 1            YES   \n",
       "3   Location 2081            22                 1            YES   \n",
       "4   Location 1695            10                 1             NO   \n",
       "6   Location 1440            20                 1            NaN   \n",
       "\n",
       "   BodilyInjuries Witnesses AmountOfTotalClaim  AmountOfInjuryClaim  \\\n",
       "1               2         1              61382                15560   \n",
       "2               2         3              66755                11630   \n",
       "3               2         3              66243                12003   \n",
       "4               2         1              53544                 8829   \n",
       "6               0         2              77453                 6476   \n",
       "\n",
       "   AmountOfPropertyClaim  AmountOfVehicleDamage  PoliceReport  \n",
       "1                   5919                  39903             1  \n",
       "2                  11630                  43495             0  \n",
       "3                  12003                  42237             0  \n",
       "4                   7234                  37481             1  \n",
       "6                  12822                  58155             0  "
      ]
     },
     "execution_count": 74,
     "metadata": {},
     "output_type": "execute_result"
    }
   ],
   "source": [
    "n_final.head()"
   ]
  },
  {
   "cell_type": "code",
   "execution_count": 75,
   "metadata": {},
   "outputs": [],
   "source": [
    "#Drop old column and add new values to that column\n",
    "df_new.drop(['PoliceReport'],axis=1,inplace=True)\n",
    "df_new['PoliceReport']=n_final['PoliceReport']"
   ]
  },
  {
   "cell_type": "markdown",
   "metadata": {},
   "source": [
    "### ii) Missing value treatment for 'TypeOfCollission' column"
   ]
  },
  {
   "cell_type": "code",
   "execution_count": 76,
   "metadata": {},
   "outputs": [],
   "source": [
    "#we store rows based on Type of collission column which are not having null values\n",
    "c1=p1.drop(['PoliceReport'],axis=1)\n",
    "c1['PoliceReport']=n_final['PoliceReport']"
   ]
  },
  {
   "cell_type": "code",
   "execution_count": 77,
   "metadata": {},
   "outputs": [
    {
     "data": {
      "text/plain": [
       "(23674, 19)"
      ]
     },
     "execution_count": 77,
     "metadata": {},
     "output_type": "execute_result"
    }
   ],
   "source": [
    "coli=c1.loc[c1['TypeOfCollission'].notnull()]\n",
    "coli.shape"
   ]
  },
  {
   "cell_type": "code",
   "execution_count": 78,
   "metadata": {},
   "outputs": [],
   "source": [
    "coli_c=coli.copy()"
   ]
  },
  {
   "cell_type": "code",
   "execution_count": 79,
   "metadata": {},
   "outputs": [],
   "source": [
    "cat_col=['DateOfIncident', 'TypeOfIncident', 'TypeOfCollission',\n",
    "       'SeverityOfIncident', 'AuthoritiesContacted', 'IncidentState',\n",
    "       'IncidentCity', 'IncidentAddress', 'PropertyDamage', 'Witnesses', 'AmountOfTotalClaim']\n",
    "from sklearn.preprocessing import LabelEncoder\n",
    "le = LabelEncoder()\n",
    "\n",
    "for col in cat_col:\n",
    "    coli_c[col]= le.fit_transform(coli_c[col])\n"
   ]
  },
  {
   "cell_type": "code",
   "execution_count": 80,
   "metadata": {},
   "outputs": [],
   "source": [
    "#Droping 'TypeOfCollission' column and assign to new valriable\n",
    "coli=coli.drop(['TypeOfCollission'],axis=1)\n",
    "coli['TypeOfCollission']=coli_c['TypeOfCollission']"
   ]
  },
  {
   "cell_type": "code",
   "execution_count": 81,
   "metadata": {},
   "outputs": [],
   "source": [
    "x=coli_c.drop(['TypeOfCollission','CustomerID'],axis=1)\n",
    "y=coli_c['TypeOfCollission']"
   ]
  },
  {
   "cell_type": "code",
   "execution_count": 82,
   "metadata": {},
   "outputs": [],
   "source": [
    "X_train,X_test,Y_train,Y_test=train_test_split(x,y,test_size=0.1,random_state=0)"
   ]
  },
  {
   "cell_type": "code",
   "execution_count": 83,
   "metadata": {},
   "outputs": [],
   "source": [
    "# logistic regression model"
   ]
  },
  {
   "cell_type": "code",
   "execution_count": 84,
   "metadata": {},
   "outputs": [
    {
     "data": {
      "text/plain": [
       "LogisticRegression(max_iter=1000)"
      ]
     },
     "execution_count": 84,
     "metadata": {},
     "output_type": "execute_result"
    }
   ],
   "source": [
    "logi1=LogisticRegression(max_iter=1000)\n",
    "logi1.fit(X_train,Y_train)"
   ]
  },
  {
   "cell_type": "code",
   "execution_count": 85,
   "metadata": {},
   "outputs": [],
   "source": [
    "pred_train=logi.predict(X_train)\n",
    "pred_test=logi.predict(X_test)"
   ]
  },
  {
   "cell_type": "code",
   "execution_count": 86,
   "metadata": {},
   "outputs": [
    {
     "name": "stdout",
     "output_type": "stream",
     "text": [
      "0.30540692762602084\n",
      "0.3120777027027027\n"
     ]
    }
   ],
   "source": [
    "print(accuracy_score(Y_train,pred_train))\n",
    "print(accuracy_score(Y_test,pred_test))"
   ]
  },
  {
   "cell_type": "code",
   "execution_count": 87,
   "metadata": {},
   "outputs": [],
   "source": [
    "# Decision tree model"
   ]
  },
  {
   "cell_type": "code",
   "execution_count": 88,
   "metadata": {},
   "outputs": [],
   "source": [
    "clf1=DecisionTreeClassifier(criterion='gini')"
   ]
  },
  {
   "cell_type": "code",
   "execution_count": 89,
   "metadata": {},
   "outputs": [],
   "source": [
    "clf1.fit(X_train,Y_train)\n",
    "pred_train=clf1.predict(X_train)\n",
    "pred_test=clf1.predict(X_test)"
   ]
  },
  {
   "cell_type": "code",
   "execution_count": 90,
   "metadata": {},
   "outputs": [
    {
     "name": "stdout",
     "output_type": "stream",
     "text": [
      "0.9999530648643574\n",
      "0.6203547297297297\n"
     ]
    }
   ],
   "source": [
    "print(accuracy_score(Y_train,pred_train))\n",
    "print(accuracy_score(Y_test,pred_test))"
   ]
  },
  {
   "cell_type": "code",
   "execution_count": 91,
   "metadata": {},
   "outputs": [],
   "source": [
    "classifier=RandomForestClassifier(n_estimators=30,criterion='entropy')"
   ]
  },
  {
   "cell_type": "code",
   "execution_count": 92,
   "metadata": {},
   "outputs": [
    {
     "data": {
      "text/plain": [
       "RandomForestClassifier(criterion='entropy', n_estimators=30)"
      ]
     },
     "execution_count": 92,
     "metadata": {},
     "output_type": "execute_result"
    }
   ],
   "source": [
    "classifier.fit(X_train,Y_train)"
   ]
  },
  {
   "cell_type": "code",
   "execution_count": 93,
   "metadata": {},
   "outputs": [],
   "source": [
    "classifier.fit(X_train,Y_train)\n",
    "pred_train=classifier.predict(X_train)\n",
    "pred_test=classifier.predict(X_test)"
   ]
  },
  {
   "cell_type": "code",
   "execution_count": 94,
   "metadata": {},
   "outputs": [
    {
     "name": "stdout",
     "output_type": "stream",
     "text": [
      "0.9991551675584343\n",
      "0.7124155405405406\n"
     ]
    }
   ],
   "source": [
    "print(accuracy_score(Y_train,pred_train))\n",
    "print(accuracy_score(Y_test,pred_test))"
   ]
  },
  {
   "cell_type": "code",
   "execution_count": 95,
   "metadata": {},
   "outputs": [],
   "source": [
    "co=c1.loc[c1['TypeOfCollission'].isnull()]"
   ]
  },
  {
   "cell_type": "code",
   "execution_count": 96,
   "metadata": {},
   "outputs": [
    {
     "data": {
      "text/plain": [
       "(5162, 19)"
      ]
     },
     "execution_count": 96,
     "metadata": {},
     "output_type": "execute_result"
    }
   ],
   "source": [
    "co.shape"
   ]
  },
  {
   "cell_type": "code",
   "execution_count": 97,
   "metadata": {},
   "outputs": [],
   "source": [
    "co2=co.drop(['TypeOfCollission','CustomerID'],axis=1)"
   ]
  },
  {
   "cell_type": "code",
   "execution_count": 98,
   "metadata": {},
   "outputs": [],
   "source": [
    "cat_col=['DateOfIncident', 'TypeOfIncident','SeverityOfIncident', 'AuthoritiesContacted', 'IncidentState',\n",
    "       'IncidentCity', 'IncidentAddress', 'PropertyDamage', 'Witnesses','AmountOfTotalClaim']\n",
    "from sklearn.preprocessing import LabelEncoder\n",
    "le = LabelEncoder()\n",
    "\n",
    "for col in cat_col:\n",
    "    co2[col]= le.fit_transform(co2[col])\n"
   ]
  },
  {
   "cell_type": "code",
   "execution_count": 99,
   "metadata": {},
   "outputs": [],
   "source": [
    "prediction1=classifier.predict(co2)"
   ]
  },
  {
   "cell_type": "code",
   "execution_count": 100,
   "metadata": {},
   "outputs": [
    {
     "data": {
      "text/plain": [
       "array([1, 1, 1, ..., 1, 0, 1])"
      ]
     },
     "execution_count": 100,
     "metadata": {},
     "output_type": "execute_result"
    }
   ],
   "source": [
    "prediction1"
   ]
  },
  {
   "cell_type": "code",
   "execution_count": 101,
   "metadata": {},
   "outputs": [],
   "source": [
    "co.drop(['TypeOfCollission'],axis=1,inplace=True)\n",
    "co['TypeOfCollission']=prediction1"
   ]
  },
  {
   "cell_type": "code",
   "execution_count": 102,
   "metadata": {},
   "outputs": [],
   "source": [
    "n_final1=pd.concat([coli,co])"
   ]
  },
  {
   "cell_type": "code",
   "execution_count": 103,
   "metadata": {},
   "outputs": [
    {
     "data": {
      "text/plain": [
       "(28836, 19)"
      ]
     },
     "execution_count": 103,
     "metadata": {},
     "output_type": "execute_result"
    }
   ],
   "source": [
    "n_final1.shape"
   ]
  },
  {
   "cell_type": "code",
   "execution_count": 104,
   "metadata": {},
   "outputs": [],
   "source": [
    "#Drop old column and add new values to that column\n",
    "df_new.drop(['TypeOfCollission'],axis=1,inplace=True)\n",
    "df_new['TypeOfCollission']=n_final1['TypeOfCollission']"
   ]
  },
  {
   "cell_type": "markdown",
   "metadata": {},
   "source": [
    "### iii) Missing value treatment for 'PropertyDamage'"
   ]
  },
  {
   "cell_type": "code",
   "execution_count": 105,
   "metadata": {},
   "outputs": [],
   "source": [
    "#we drop the police report and type of collision column and add newly predicted column\n",
    "pr1=p1.drop(['PoliceReport','TypeOfCollission'],axis=1)\n",
    "pr1['PoliceReport']=n_final['PoliceReport']\n",
    "pr1['TypeOfCollission']=n_final1['TypeOfCollission']"
   ]
  },
  {
   "cell_type": "code",
   "execution_count": 106,
   "metadata": {},
   "outputs": [
    {
     "data": {
      "text/plain": [
       "(18377, 19)"
      ]
     },
     "execution_count": 106,
     "metadata": {},
     "output_type": "execute_result"
    }
   ],
   "source": [
    "#we get rows which having null values\n",
    "pr=pr1.loc[pr1['PropertyDamage'].notnull()]\n",
    "pr.shape"
   ]
  },
  {
   "cell_type": "code",
   "execution_count": 107,
   "metadata": {},
   "outputs": [],
   "source": [
    "pro=pr.copy()"
   ]
  },
  {
   "cell_type": "code",
   "execution_count": 108,
   "metadata": {},
   "outputs": [],
   "source": [
    "cat_col=['DateOfIncident', 'TypeOfIncident',\n",
    "       'SeverityOfIncident', 'AuthoritiesContacted', 'IncidentState',\n",
    "       'IncidentCity', 'IncidentAddress', 'PropertyDamage', 'Witnesses', 'AmountOfTotalClaim']\n",
    "from sklearn.preprocessing import LabelEncoder\n",
    "le = LabelEncoder()\n",
    "\n",
    "for col in cat_col:\n",
    "    pro[col]= le.fit_transform(pro[col])"
   ]
  },
  {
   "cell_type": "code",
   "execution_count": 109,
   "metadata": {},
   "outputs": [],
   "source": [
    "#Droping 'Property of damage' column and assign to new valriable\n",
    "pr=pr.drop(['PropertyDamage'],axis=1)\n",
    "pr['PropertyDamage']=pro['PropertyDamage']"
   ]
  },
  {
   "cell_type": "code",
   "execution_count": 110,
   "metadata": {},
   "outputs": [],
   "source": [
    "from sklearn.linear_model import LogisticRegression\n",
    "from sklearn.model_selection import train_test_split\n",
    "from sklearn.metrics import accuracy_score"
   ]
  },
  {
   "cell_type": "code",
   "execution_count": 111,
   "metadata": {},
   "outputs": [],
   "source": [
    "x=pro.drop(['PropertyDamage','CustomerID'],axis=1)\n",
    "y=pro['PropertyDamage']"
   ]
  },
  {
   "cell_type": "code",
   "execution_count": 112,
   "metadata": {},
   "outputs": [],
   "source": [
    "X_train,X_test,Y_train,Y_test=train_test_split(x,y,test_size=0.1,random_state=0)"
   ]
  },
  {
   "cell_type": "code",
   "execution_count": 113,
   "metadata": {},
   "outputs": [
    {
     "data": {
      "text/plain": [
       "LogisticRegression()"
      ]
     },
     "execution_count": 113,
     "metadata": {},
     "output_type": "execute_result"
    }
   ],
   "source": [
    "logi2=LogisticRegression()\n",
    "logi2.fit(X_train,Y_train)"
   ]
  },
  {
   "cell_type": "code",
   "execution_count": 114,
   "metadata": {},
   "outputs": [],
   "source": [
    "pred_train=logi2.predict(X_train)\n",
    "pred_test=logi2.predict(X_test)"
   ]
  },
  {
   "cell_type": "code",
   "execution_count": 115,
   "metadata": {},
   "outputs": [
    {
     "name": "stdout",
     "output_type": "stream",
     "text": [
      "0.5280851321119777\n",
      "0.5359085963003264\n"
     ]
    }
   ],
   "source": [
    "print(accuracy_score(Y_train,pred_train))\n",
    "print(accuracy_score(Y_test,pred_test))"
   ]
  },
  {
   "cell_type": "code",
   "execution_count": 116,
   "metadata": {},
   "outputs": [],
   "source": [
    "from sklearn.tree import DecisionTreeClassifier"
   ]
  },
  {
   "cell_type": "code",
   "execution_count": 117,
   "metadata": {},
   "outputs": [],
   "source": [
    "clf2=DecisionTreeClassifier(criterion='gini')"
   ]
  },
  {
   "cell_type": "code",
   "execution_count": 118,
   "metadata": {},
   "outputs": [],
   "source": [
    "clf2.fit(X_train,Y_train)\n",
    "pred_train=clf2.predict(X_train)\n",
    "pred_test=clf2.predict(X_test)"
   ]
  },
  {
   "cell_type": "code",
   "execution_count": 119,
   "metadata": {},
   "outputs": [
    {
     "name": "stdout",
     "output_type": "stream",
     "text": [
      "1.0\n",
      "0.735038084874864\n"
     ]
    }
   ],
   "source": [
    "print(accuracy_score(Y_train,pred_train))\n",
    "print(accuracy_score(Y_test,pred_test))"
   ]
  },
  {
   "cell_type": "code",
   "execution_count": 120,
   "metadata": {},
   "outputs": [],
   "source": [
    "from sklearn.ensemble import RandomForestClassifier"
   ]
  },
  {
   "cell_type": "code",
   "execution_count": 121,
   "metadata": {},
   "outputs": [],
   "source": [
    "classifier1=RandomForestClassifier(n_estimators=40,criterion='entropy')"
   ]
  },
  {
   "cell_type": "code",
   "execution_count": 122,
   "metadata": {},
   "outputs": [],
   "source": [
    "classifier1.fit(X_train,Y_train)\n",
    "pred_train=classifier1.predict(X_train)\n",
    "pred_test=classifier1.predict(X_test)"
   ]
  },
  {
   "cell_type": "code",
   "execution_count": 123,
   "metadata": {},
   "outputs": [
    {
     "name": "stdout",
     "output_type": "stream",
     "text": [
      "0.9996976842614427\n",
      "0.8373231773667029\n"
     ]
    }
   ],
   "source": [
    "print(accuracy_score(Y_train,pred_train))\n",
    "print(accuracy_score(Y_test,pred_test))"
   ]
  },
  {
   "cell_type": "code",
   "execution_count": 124,
   "metadata": {},
   "outputs": [
    {
     "data": {
      "text/plain": [
       "(10459, 19)"
      ]
     },
     "execution_count": 124,
     "metadata": {},
     "output_type": "execute_result"
    }
   ],
   "source": [
    "prnull=pr1.loc[pr1['PropertyDamage'].isnull()]\n",
    "prnull.shape"
   ]
  },
  {
   "cell_type": "code",
   "execution_count": 125,
   "metadata": {},
   "outputs": [],
   "source": [
    "prn1=prnull.drop(['PropertyDamage','CustomerID'],axis=1)"
   ]
  },
  {
   "cell_type": "code",
   "execution_count": 126,
   "metadata": {},
   "outputs": [],
   "source": [
    "cat_col=['DateOfIncident', 'TypeOfIncident','SeverityOfIncident', 'AuthoritiesContacted', 'IncidentState',\n",
    "       'IncidentCity', 'IncidentAddress', 'Witnesses','AmountOfTotalClaim']\n",
    "from sklearn.preprocessing import LabelEncoder\n",
    "le = LabelEncoder()\n",
    "\n",
    "for col in cat_col:\n",
    "    prn1[col]= le.fit_transform(prn1[col])"
   ]
  },
  {
   "cell_type": "code",
   "execution_count": 127,
   "metadata": {},
   "outputs": [],
   "source": [
    "prediction2=classifier1.predict(prn1)"
   ]
  },
  {
   "cell_type": "code",
   "execution_count": 128,
   "metadata": {},
   "outputs": [],
   "source": [
    "prnull.drop(['PropertyDamage'],axis=1,inplace=True)\n",
    "prnull['PropertyDamage']=prediction2"
   ]
  },
  {
   "cell_type": "code",
   "execution_count": 129,
   "metadata": {},
   "outputs": [
    {
     "data": {
      "text/html": [
       "<div>\n",
       "<style scoped>\n",
       "    .dataframe tbody tr th:only-of-type {\n",
       "        vertical-align: middle;\n",
       "    }\n",
       "\n",
       "    .dataframe tbody tr th {\n",
       "        vertical-align: top;\n",
       "    }\n",
       "\n",
       "    .dataframe thead th {\n",
       "        text-align: right;\n",
       "    }\n",
       "</style>\n",
       "<table border=\"1\" class=\"dataframe\">\n",
       "  <thead>\n",
       "    <tr style=\"text-align: right;\">\n",
       "      <th></th>\n",
       "      <th>CustomerID</th>\n",
       "      <th>DateOfIncident</th>\n",
       "      <th>TypeOfIncident</th>\n",
       "      <th>SeverityOfIncident</th>\n",
       "      <th>AuthoritiesContacted</th>\n",
       "      <th>IncidentState</th>\n",
       "      <th>IncidentCity</th>\n",
       "      <th>IncidentAddress</th>\n",
       "      <th>IncidentTime</th>\n",
       "      <th>NumberOfVehicles</th>\n",
       "      <th>BodilyInjuries</th>\n",
       "      <th>Witnesses</th>\n",
       "      <th>AmountOfTotalClaim</th>\n",
       "      <th>AmountOfInjuryClaim</th>\n",
       "      <th>AmountOfPropertyClaim</th>\n",
       "      <th>AmountOfVehicleDamage</th>\n",
       "      <th>PoliceReport</th>\n",
       "      <th>TypeOfCollission</th>\n",
       "      <th>PropertyDamage</th>\n",
       "    </tr>\n",
       "  </thead>\n",
       "  <tbody>\n",
       "    <tr>\n",
       "      <th>0</th>\n",
       "      <td>Cust10000</td>\n",
       "      <td>2015-02-03</td>\n",
       "      <td>Multi-vehicle Collision</td>\n",
       "      <td>Total Loss</td>\n",
       "      <td>Police</td>\n",
       "      <td>State7</td>\n",
       "      <td>City1</td>\n",
       "      <td>Location 1311</td>\n",
       "      <td>17</td>\n",
       "      <td>3</td>\n",
       "      <td>1</td>\n",
       "      <td>0</td>\n",
       "      <td>65501</td>\n",
       "      <td>13417</td>\n",
       "      <td>6071</td>\n",
       "      <td>46013</td>\n",
       "      <td>1</td>\n",
       "      <td>2</td>\n",
       "      <td>1</td>\n",
       "    </tr>\n",
       "    <tr>\n",
       "      <th>6</th>\n",
       "      <td>Cust10006</td>\n",
       "      <td>2015-01-30</td>\n",
       "      <td>Single Vehicle Collision</td>\n",
       "      <td>Minor Damage</td>\n",
       "      <td>Ambulance</td>\n",
       "      <td>State5</td>\n",
       "      <td>City4</td>\n",
       "      <td>Location 1440</td>\n",
       "      <td>20</td>\n",
       "      <td>1</td>\n",
       "      <td>0</td>\n",
       "      <td>2</td>\n",
       "      <td>77453</td>\n",
       "      <td>6476</td>\n",
       "      <td>12822</td>\n",
       "      <td>58155</td>\n",
       "      <td>0</td>\n",
       "      <td>0</td>\n",
       "      <td>1</td>\n",
       "    </tr>\n",
       "    <tr>\n",
       "      <th>7</th>\n",
       "      <td>Cust10007</td>\n",
       "      <td>2015-01-12</td>\n",
       "      <td>Single Vehicle Collision</td>\n",
       "      <td>Minor Damage</td>\n",
       "      <td>Police</td>\n",
       "      <td>State5</td>\n",
       "      <td>City3</td>\n",
       "      <td>Location 1440</td>\n",
       "      <td>18</td>\n",
       "      <td>1</td>\n",
       "      <td>0</td>\n",
       "      <td>2</td>\n",
       "      <td>60569</td>\n",
       "      <td>5738</td>\n",
       "      <td>7333</td>\n",
       "      <td>47498</td>\n",
       "      <td>0</td>\n",
       "      <td>0</td>\n",
       "      <td>0</td>\n",
       "    </tr>\n",
       "    <tr>\n",
       "      <th>15</th>\n",
       "      <td>Cust10017</td>\n",
       "      <td>2015-02-28</td>\n",
       "      <td>Multi-vehicle Collision</td>\n",
       "      <td>Total Loss</td>\n",
       "      <td>Other</td>\n",
       "      <td>State7</td>\n",
       "      <td>City2</td>\n",
       "      <td>Location 1677</td>\n",
       "      <td>12</td>\n",
       "      <td>1</td>\n",
       "      <td>1</td>\n",
       "      <td>0</td>\n",
       "      <td>61697</td>\n",
       "      <td>6172</td>\n",
       "      <td>6167</td>\n",
       "      <td>49358</td>\n",
       "      <td>1</td>\n",
       "      <td>2</td>\n",
       "      <td>0</td>\n",
       "    </tr>\n",
       "    <tr>\n",
       "      <th>18</th>\n",
       "      <td>Cust10021</td>\n",
       "      <td>2015-01-03</td>\n",
       "      <td>Vehicle Theft</td>\n",
       "      <td>Trivial Damage</td>\n",
       "      <td>None</td>\n",
       "      <td>State4</td>\n",
       "      <td>City5</td>\n",
       "      <td>Location 1449</td>\n",
       "      <td>10</td>\n",
       "      <td>1</td>\n",
       "      <td>2</td>\n",
       "      <td>1</td>\n",
       "      <td>6190</td>\n",
       "      <td>619</td>\n",
       "      <td>1208</td>\n",
       "      <td>4363</td>\n",
       "      <td>0</td>\n",
       "      <td>1</td>\n",
       "      <td>0</td>\n",
       "    </tr>\n",
       "  </tbody>\n",
       "</table>\n",
       "</div>"
      ],
      "text/plain": [
       "   CustomerID DateOfIncident            TypeOfIncident SeverityOfIncident  \\\n",
       "0   Cust10000     2015-02-03   Multi-vehicle Collision         Total Loss   \n",
       "6   Cust10006     2015-01-30  Single Vehicle Collision       Minor Damage   \n",
       "7   Cust10007     2015-01-12  Single Vehicle Collision       Minor Damage   \n",
       "15  Cust10017     2015-02-28   Multi-vehicle Collision         Total Loss   \n",
       "18  Cust10021     2015-01-03             Vehicle Theft     Trivial Damage   \n",
       "\n",
       "   AuthoritiesContacted IncidentState IncidentCity IncidentAddress  \\\n",
       "0                Police        State7        City1   Location 1311   \n",
       "6             Ambulance        State5        City4   Location 1440   \n",
       "7                Police        State5        City3   Location 1440   \n",
       "15                Other        State7        City2   Location 1677   \n",
       "18                 None        State4        City5   Location 1449   \n",
       "\n",
       "    IncidentTime  NumberOfVehicles  BodilyInjuries Witnesses  \\\n",
       "0             17                 3               1         0   \n",
       "6             20                 1               0         2   \n",
       "7             18                 1               0         2   \n",
       "15            12                 1               1         0   \n",
       "18            10                 1               2         1   \n",
       "\n",
       "   AmountOfTotalClaim  AmountOfInjuryClaim  AmountOfPropertyClaim  \\\n",
       "0               65501                13417                   6071   \n",
       "6               77453                 6476                  12822   \n",
       "7               60569                 5738                   7333   \n",
       "15              61697                 6172                   6167   \n",
       "18               6190                  619                   1208   \n",
       "\n",
       "    AmountOfVehicleDamage  PoliceReport  TypeOfCollission  PropertyDamage  \n",
       "0                   46013             1                 2               1  \n",
       "6                   58155             0                 0               1  \n",
       "7                   47498             0                 0               0  \n",
       "15                  49358             1                 2               0  \n",
       "18                   4363             0                 1               0  "
      ]
     },
     "execution_count": 129,
     "metadata": {},
     "output_type": "execute_result"
    }
   ],
   "source": [
    "prnull.head()"
   ]
  },
  {
   "cell_type": "code",
   "execution_count": 130,
   "metadata": {},
   "outputs": [],
   "source": [
    "n_final2=pd.concat([pr,prnull])"
   ]
  },
  {
   "cell_type": "code",
   "execution_count": 131,
   "metadata": {},
   "outputs": [],
   "source": [
    "#Drop old column and add new values to that column\n",
    "df_new.drop(['PropertyDamage'],axis=1,inplace=True)\n",
    "df_new['PropertyDamage']=n_final2['PropertyDamage']"
   ]
  },
  {
   "cell_type": "code",
   "execution_count": 132,
   "metadata": {
    "scrolled": true
   },
   "outputs": [
    {
     "data": {
      "text/html": [
       "<div>\n",
       "<style scoped>\n",
       "    .dataframe tbody tr th:only-of-type {\n",
       "        vertical-align: middle;\n",
       "    }\n",
       "\n",
       "    .dataframe tbody tr th {\n",
       "        vertical-align: top;\n",
       "    }\n",
       "\n",
       "    .dataframe thead th {\n",
       "        text-align: right;\n",
       "    }\n",
       "</style>\n",
       "<table border=\"1\" class=\"dataframe\">\n",
       "  <thead>\n",
       "    <tr style=\"text-align: right;\">\n",
       "      <th></th>\n",
       "      <th>CustomerID</th>\n",
       "      <th>DateOfIncident</th>\n",
       "      <th>TypeOfIncident</th>\n",
       "      <th>SeverityOfIncident</th>\n",
       "      <th>AuthoritiesContacted</th>\n",
       "      <th>IncidentState</th>\n",
       "      <th>IncidentCity</th>\n",
       "      <th>IncidentAddress</th>\n",
       "      <th>IncidentTime</th>\n",
       "      <th>NumberOfVehicles</th>\n",
       "      <th>...</th>\n",
       "      <th>UmbrellaLimit</th>\n",
       "      <th>InsuredRelationship</th>\n",
       "      <th>VehicleID</th>\n",
       "      <th>VehicleModel</th>\n",
       "      <th>VehicleMake</th>\n",
       "      <th>VehicleYOM</th>\n",
       "      <th>ReportedFraud</th>\n",
       "      <th>PoliceReport</th>\n",
       "      <th>TypeOfCollission</th>\n",
       "      <th>PropertyDamage</th>\n",
       "    </tr>\n",
       "  </thead>\n",
       "  <tbody>\n",
       "    <tr>\n",
       "      <th>0</th>\n",
       "      <td>Cust10000</td>\n",
       "      <td>2015-02-03</td>\n",
       "      <td>Multi-vehicle Collision</td>\n",
       "      <td>Total Loss</td>\n",
       "      <td>Police</td>\n",
       "      <td>State7</td>\n",
       "      <td>City1</td>\n",
       "      <td>Location 1311</td>\n",
       "      <td>17.0</td>\n",
       "      <td>3</td>\n",
       "      <td>...</td>\n",
       "      <td>0</td>\n",
       "      <td>not-in-family</td>\n",
       "      <td>Vehicle26917</td>\n",
       "      <td>A5</td>\n",
       "      <td>Audi</td>\n",
       "      <td>2008</td>\n",
       "      <td>N</td>\n",
       "      <td>1</td>\n",
       "      <td>2</td>\n",
       "      <td>1</td>\n",
       "    </tr>\n",
       "    <tr>\n",
       "      <th>1</th>\n",
       "      <td>Cust10001</td>\n",
       "      <td>2015-02-02</td>\n",
       "      <td>Multi-vehicle Collision</td>\n",
       "      <td>Total Loss</td>\n",
       "      <td>Police</td>\n",
       "      <td>State7</td>\n",
       "      <td>City5</td>\n",
       "      <td>Location 1311</td>\n",
       "      <td>10.0</td>\n",
       "      <td>3</td>\n",
       "      <td>...</td>\n",
       "      <td>0</td>\n",
       "      <td>not-in-family</td>\n",
       "      <td>Vehicle15893</td>\n",
       "      <td>A5</td>\n",
       "      <td>Audi</td>\n",
       "      <td>2006</td>\n",
       "      <td>N</td>\n",
       "      <td>1</td>\n",
       "      <td>2</td>\n",
       "      <td>1</td>\n",
       "    </tr>\n",
       "    <tr>\n",
       "      <th>2</th>\n",
       "      <td>Cust10002</td>\n",
       "      <td>2015-01-15</td>\n",
       "      <td>Single Vehicle Collision</td>\n",
       "      <td>Minor Damage</td>\n",
       "      <td>Other</td>\n",
       "      <td>State8</td>\n",
       "      <td>City6</td>\n",
       "      <td>Location 2081</td>\n",
       "      <td>22.0</td>\n",
       "      <td>1</td>\n",
       "      <td>...</td>\n",
       "      <td>0</td>\n",
       "      <td>wife</td>\n",
       "      <td>Vehicle5152</td>\n",
       "      <td>Jetta</td>\n",
       "      <td>Volkswagen</td>\n",
       "      <td>1999</td>\n",
       "      <td>N</td>\n",
       "      <td>0</td>\n",
       "      <td>2</td>\n",
       "      <td>1</td>\n",
       "    </tr>\n",
       "    <tr>\n",
       "      <th>3</th>\n",
       "      <td>Cust10003</td>\n",
       "      <td>2015-01-19</td>\n",
       "      <td>Single Vehicle Collision</td>\n",
       "      <td>Minor Damage</td>\n",
       "      <td>Other</td>\n",
       "      <td>State9</td>\n",
       "      <td>City6</td>\n",
       "      <td>Location 2081</td>\n",
       "      <td>22.0</td>\n",
       "      <td>1</td>\n",
       "      <td>...</td>\n",
       "      <td>0</td>\n",
       "      <td>own-child</td>\n",
       "      <td>Vehicle37363</td>\n",
       "      <td>Jetta</td>\n",
       "      <td>Volkswagen</td>\n",
       "      <td>2003</td>\n",
       "      <td>N</td>\n",
       "      <td>0</td>\n",
       "      <td>2</td>\n",
       "      <td>1</td>\n",
       "    </tr>\n",
       "    <tr>\n",
       "      <th>4</th>\n",
       "      <td>Cust10004</td>\n",
       "      <td>2015-01-09</td>\n",
       "      <td>Single Vehicle Collision</td>\n",
       "      <td>Minor Damage</td>\n",
       "      <td>Fire</td>\n",
       "      <td>State8</td>\n",
       "      <td>City6</td>\n",
       "      <td>Location 1695</td>\n",
       "      <td>10.0</td>\n",
       "      <td>1</td>\n",
       "      <td>...</td>\n",
       "      <td>4279863</td>\n",
       "      <td>unmarried</td>\n",
       "      <td>Vehicle28633</td>\n",
       "      <td>CRV</td>\n",
       "      <td>Toyota</td>\n",
       "      <td>2010</td>\n",
       "      <td>N</td>\n",
       "      <td>1</td>\n",
       "      <td>1</td>\n",
       "      <td>0</td>\n",
       "    </tr>\n",
       "  </tbody>\n",
       "</table>\n",
       "<p>5 rows × 42 columns</p>\n",
       "</div>"
      ],
      "text/plain": [
       "  CustomerID DateOfIncident            TypeOfIncident SeverityOfIncident  \\\n",
       "0  Cust10000     2015-02-03   Multi-vehicle Collision         Total Loss   \n",
       "1  Cust10001     2015-02-02   Multi-vehicle Collision         Total Loss   \n",
       "2  Cust10002     2015-01-15  Single Vehicle Collision       Minor Damage   \n",
       "3  Cust10003     2015-01-19  Single Vehicle Collision       Minor Damage   \n",
       "4  Cust10004     2015-01-09  Single Vehicle Collision       Minor Damage   \n",
       "\n",
       "  AuthoritiesContacted IncidentState IncidentCity IncidentAddress  \\\n",
       "0               Police        State7        City1   Location 1311   \n",
       "1               Police        State7        City5   Location 1311   \n",
       "2                Other        State8        City6   Location 2081   \n",
       "3                Other        State9        City6   Location 2081   \n",
       "4                 Fire        State8        City6   Location 1695   \n",
       "\n",
       "   IncidentTime  NumberOfVehicles  ...  UmbrellaLimit InsuredRelationship  \\\n",
       "0          17.0                 3  ...              0       not-in-family   \n",
       "1          10.0                 3  ...              0       not-in-family   \n",
       "2          22.0                 1  ...              0                wife   \n",
       "3          22.0                 1  ...              0           own-child   \n",
       "4          10.0                 1  ...        4279863           unmarried   \n",
       "\n",
       "      VehicleID  VehicleModel  VehicleMake  VehicleYOM  ReportedFraud  \\\n",
       "0  Vehicle26917            A5         Audi        2008              N   \n",
       "1  Vehicle15893            A5         Audi        2006              N   \n",
       "2   Vehicle5152         Jetta   Volkswagen        1999              N   \n",
       "3  Vehicle37363         Jetta   Volkswagen        2003              N   \n",
       "4  Vehicle28633           CRV       Toyota        2010              N   \n",
       "\n",
       "   PoliceReport TypeOfCollission PropertyDamage  \n",
       "0             1                2              1  \n",
       "1             1                2              1  \n",
       "2             0                2              1  \n",
       "3             0                2              1  \n",
       "4             1                1              0  \n",
       "\n",
       "[5 rows x 42 columns]"
      ]
     },
     "execution_count": 132,
     "metadata": {},
     "output_type": "execute_result"
    }
   ],
   "source": [
    "df_new.head()"
   ]
  },
  {
   "cell_type": "markdown",
   "metadata": {},
   "source": [
    "## Imputing other missing values"
   ]
  },
  {
   "cell_type": "code",
   "execution_count": 133,
   "metadata": {},
   "outputs": [
    {
     "data": {
      "text/plain": [
       "CustomerID                      0\n",
       "DateOfIncident                  0\n",
       "TypeOfIncident                  0\n",
       "SeverityOfIncident              0\n",
       "AuthoritiesContacted            0\n",
       "IncidentState                   0\n",
       "IncidentCity                    0\n",
       "IncidentAddress                 0\n",
       "IncidentTime                   31\n",
       "NumberOfVehicles                0\n",
       "BodilyInjuries                  0\n",
       "Witnesses                      46\n",
       "AmountOfTotalClaim              0\n",
       "AmountOfInjuryClaim             0\n",
       "AmountOfPropertyClaim           0\n",
       "AmountOfVehicleDamage           0\n",
       "InsuredAge                      0\n",
       "InsuredZipCode                  0\n",
       "InsuredGender                  30\n",
       "InsuredEducationLevel           0\n",
       "InsuredOccupation               0\n",
       "InsuredHobbies                  0\n",
       "CapitalGains                    0\n",
       "CapitalLoss                     0\n",
       "Country                         2\n",
       "InsurancePolicyNumber           0\n",
       "CustomerLoyaltyPeriod           0\n",
       "DateOfPolicyCoverage            0\n",
       "InsurancePolicyState            0\n",
       "Policy_CombinedSingleLimit      0\n",
       "Policy_Deductible               0\n",
       "PolicyAnnualPremium           141\n",
       "UmbrellaLimit                   0\n",
       "InsuredRelationship             0\n",
       "VehicleID                       0\n",
       "VehicleModel                    0\n",
       "VehicleMake                    50\n",
       "VehicleYOM                      0\n",
       "ReportedFraud                   0\n",
       "PoliceReport                    0\n",
       "TypeOfCollission                0\n",
       "PropertyDamage                  0\n",
       "dtype: int64"
      ]
     },
     "execution_count": 133,
     "metadata": {},
     "output_type": "execute_result"
    }
   ],
   "source": [
    "df_new.isnull().sum()"
   ]
  },
  {
   "cell_type": "code",
   "execution_count": 134,
   "metadata": {},
   "outputs": [],
   "source": [
    "df_new['PolicyAnnualPremium'].fillna(df_new['PolicyAnnualPremium'].median(),inplace=True)\n",
    "\n",
    "df_new['InsuredGender'].fillna(df_new['InsuredGender'].mode()[0],inplace=True)\n",
    "\n",
    "df_new['Witnesses'].fillna(df_new['Witnesses'].mode()[0],inplace=True)\n",
    "\n",
    "df_new['VehicleMake'].fillna(df_new['VehicleMake'].mode()[0],inplace=True)\n",
    "\n",
    "df_new['AmountOfTotalClaim'].replace(-2,df_new['AmountOfTotalClaim'].median(),inplace=True)\n",
    "\n",
    "df_new['IncidentTime'].fillna(df_new['IncidentTime'].median(),inplace=True)\n",
    "\n",
    "df_new['Country'].fillna(df_new['Country'].mode(),inplace=True)"
   ]
  },
  {
   "cell_type": "code",
   "execution_count": 135,
   "metadata": {},
   "outputs": [
    {
     "data": {
      "text/plain": [
       "(28836, 42)"
      ]
     },
     "execution_count": 135,
     "metadata": {},
     "output_type": "execute_result"
    }
   ],
   "source": [
    "df_new.shape"
   ]
  },
  {
   "cell_type": "markdown",
   "metadata": {},
   "source": [
    "## Finding Duplicate values"
   ]
  },
  {
   "cell_type": "code",
   "execution_count": 136,
   "metadata": {},
   "outputs": [
    {
     "data": {
      "text/plain": [
       "0"
      ]
     },
     "execution_count": 136,
     "metadata": {},
     "output_type": "execute_result"
    }
   ],
   "source": [
    "#We check whether it have duplicate value or not\n",
    "df_new.duplicated().sum()"
   ]
  },
  {
   "cell_type": "markdown",
   "metadata": {},
   "source": [
    "## Dropping columns "
   ]
  },
  {
   "cell_type": "code",
   "execution_count": 137,
   "metadata": {},
   "outputs": [],
   "source": [
    "df_new1=df_new.drop(['CustomerID','IncidentState','VehicleID','IncidentCity','IncidentAddress','InsuredZipCode','Country',\n",
    "            'InsurancePolicyNumber','DateOfIncident','DateOfPolicyCoverage','InsurancePolicyState',\n",
    "            'InsuredRelationship'],axis=1)"
   ]
  },
  {
   "cell_type": "markdown",
   "metadata": {},
   "source": [
    "## Converting categorical to numerical"
   ]
  },
  {
   "cell_type": "code",
   "execution_count": 138,
   "metadata": {},
   "outputs": [
    {
     "data": {
      "text/plain": [
       "TypeOfIncident                 object\n",
       "SeverityOfIncident             object\n",
       "AuthoritiesContacted           object\n",
       "IncidentTime                  float64\n",
       "NumberOfVehicles                int64\n",
       "BodilyInjuries                  int64\n",
       "Witnesses                      object\n",
       "AmountOfTotalClaim            float64\n",
       "AmountOfInjuryClaim             int64\n",
       "AmountOfPropertyClaim           int64\n",
       "AmountOfVehicleDamage           int64\n",
       "InsuredAge                      int64\n",
       "InsuredGender                  object\n",
       "InsuredEducationLevel          object\n",
       "InsuredOccupation              object\n",
       "InsuredHobbies                 object\n",
       "CapitalGains                    int64\n",
       "CapitalLoss                     int64\n",
       "CustomerLoyaltyPeriod           int64\n",
       "Policy_CombinedSingleLimit     object\n",
       "Policy_Deductible               int64\n",
       "PolicyAnnualPremium           float64\n",
       "UmbrellaLimit                   int64\n",
       "VehicleModel                   object\n",
       "VehicleMake                    object\n",
       "VehicleYOM                     object\n",
       "ReportedFraud                  object\n",
       "PoliceReport                    int32\n",
       "TypeOfCollission                int32\n",
       "PropertyDamage                  int32\n",
       "dtype: object"
      ]
     },
     "execution_count": 138,
     "metadata": {},
     "output_type": "execute_result"
    }
   ],
   "source": [
    "df_new1.dtypes"
   ]
  },
  {
   "cell_type": "code",
   "execution_count": 139,
   "metadata": {},
   "outputs": [],
   "source": [
    "#We are just change the categorical type into integer\n",
    "df_new1['Witnesses']=df_new1['Witnesses'].astype('int')"
   ]
  },
  {
   "cell_type": "code",
   "execution_count": 140,
   "metadata": {},
   "outputs": [
    {
     "data": {
      "text/plain": [
       "Index(['TypeOfIncident', 'SeverityOfIncident', 'AuthoritiesContacted',\n",
       "       'InsuredGender', 'InsuredEducationLevel', 'InsuredOccupation',\n",
       "       'InsuredHobbies', 'Policy_CombinedSingleLimit', 'VehicleModel',\n",
       "       'VehicleMake', 'VehicleYOM', 'ReportedFraud'],\n",
       "      dtype='object')"
      ]
     },
     "execution_count": 140,
     "metadata": {},
     "output_type": "execute_result"
    }
   ],
   "source": [
    "ob1=df_new1.select_dtypes(include=['object'])\n",
    "ob1.columns"
   ]
  },
  {
   "cell_type": "code",
   "execution_count": 141,
   "metadata": {},
   "outputs": [],
   "source": [
    "cat_col=['TypeOfIncident', 'SeverityOfIncident',\n",
    "       'AuthoritiesContacted', 'InsuredGender',\n",
    "       'InsuredEducationLevel', 'InsuredOccupation',\n",
    "       'Policy_CombinedSingleLimit','InsuredHobbies',\n",
    "       'VehicleModel', 'VehicleMake',\n",
    "       'VehicleYOM', 'ReportedFraud']\n",
    "from sklearn.preprocessing import LabelEncoder\n",
    "le = LabelEncoder()\n",
    "\n",
    "for col in cat_col:\n",
    "    df_new1[col]= le.fit_transform(df_new1[col])"
   ]
  },
  {
   "cell_type": "code",
   "execution_count": 142,
   "metadata": {},
   "outputs": [
    {
     "data": {
      "text/plain": [
       "(28836, 30)"
      ]
     },
     "execution_count": 142,
     "metadata": {},
     "output_type": "execute_result"
    }
   ],
   "source": [
    "df_new1.shape"
   ]
  },
  {
   "cell_type": "code",
   "execution_count": 143,
   "metadata": {},
   "outputs": [],
   "source": [
    "df_new1.to_csv('cleaned8.csv',index=False)"
   ]
  },
  {
   "cell_type": "code",
   "execution_count": 144,
   "metadata": {},
   "outputs": [
    {
     "data": {
      "text/plain": [
       "Index(['TypeOfIncident', 'SeverityOfIncident', 'AuthoritiesContacted',\n",
       "       'IncidentTime', 'NumberOfVehicles', 'BodilyInjuries', 'Witnesses',\n",
       "       'AmountOfTotalClaim', 'AmountOfInjuryClaim', 'AmountOfPropertyClaim',\n",
       "       'AmountOfVehicleDamage', 'InsuredAge', 'InsuredGender',\n",
       "       'InsuredEducationLevel', 'InsuredOccupation', 'InsuredHobbies',\n",
       "       'CapitalGains', 'CapitalLoss', 'CustomerLoyaltyPeriod',\n",
       "       'Policy_CombinedSingleLimit', 'Policy_Deductible',\n",
       "       'PolicyAnnualPremium', 'UmbrellaLimit', 'VehicleModel', 'VehicleMake',\n",
       "       'VehicleYOM', 'ReportedFraud', 'PoliceReport', 'TypeOfCollission',\n",
       "       'PropertyDamage'],\n",
       "      dtype='object')"
      ]
     },
     "execution_count": 144,
     "metadata": {},
     "output_type": "execute_result"
    }
   ],
   "source": [
    "df_new1.columns"
   ]
  },
  {
   "cell_type": "markdown",
   "metadata": {},
   "source": [
    "# 3)Creating ML model"
   ]
  },
  {
   "cell_type": "markdown",
   "metadata": {},
   "source": [
    "### Training and testing data"
   ]
  },
  {
   "cell_type": "code",
   "execution_count": 145,
   "metadata": {},
   "outputs": [],
   "source": [
    "test_data=pd.read_csv('cleanedtes7.csv')\n",
    "train_data=pd.read_csv('cleaned8.csv')"
   ]
  },
  {
   "cell_type": "code",
   "execution_count": 146,
   "metadata": {
    "scrolled": true
   },
   "outputs": [
    {
     "data": {
      "text/html": [
       "<div>\n",
       "<style scoped>\n",
       "    .dataframe tbody tr th:only-of-type {\n",
       "        vertical-align: middle;\n",
       "    }\n",
       "\n",
       "    .dataframe tbody tr th {\n",
       "        vertical-align: top;\n",
       "    }\n",
       "\n",
       "    .dataframe thead th {\n",
       "        text-align: right;\n",
       "    }\n",
       "</style>\n",
       "<table border=\"1\" class=\"dataframe\">\n",
       "  <thead>\n",
       "    <tr style=\"text-align: right;\">\n",
       "      <th></th>\n",
       "      <th>CustomerID</th>\n",
       "      <th>TypeOfIncident</th>\n",
       "      <th>SeverityOfIncident</th>\n",
       "      <th>AuthoritiesContacted</th>\n",
       "      <th>IncidentTime</th>\n",
       "      <th>NumberOfVehicles</th>\n",
       "      <th>BodilyInjuries</th>\n",
       "      <th>Witnesses</th>\n",
       "      <th>AmountOfTotalClaim</th>\n",
       "      <th>AmountOfInjuryClaim</th>\n",
       "      <th>...</th>\n",
       "      <th>Policy_CombinedSingleLimit</th>\n",
       "      <th>Policy_Deductible</th>\n",
       "      <th>PolicyAnnualPremium</th>\n",
       "      <th>UmbrellaLimit</th>\n",
       "      <th>VehicleModel</th>\n",
       "      <th>VehicleMake</th>\n",
       "      <th>VehicleYOM</th>\n",
       "      <th>PoliceReport</th>\n",
       "      <th>TypeOfCollission</th>\n",
       "      <th>PropertyDamage</th>\n",
       "    </tr>\n",
       "  </thead>\n",
       "  <tbody>\n",
       "    <tr>\n",
       "      <th>0</th>\n",
       "      <td>Cust10008</td>\n",
       "      <td>0</td>\n",
       "      <td>1</td>\n",
       "      <td>0</td>\n",
       "      <td>4.0</td>\n",
       "      <td>3</td>\n",
       "      <td>0</td>\n",
       "      <td>0</td>\n",
       "      <td>68354.0</td>\n",
       "      <td>6835</td>\n",
       "      <td>...</td>\n",
       "      <td>6</td>\n",
       "      <td>2000</td>\n",
       "      <td>1006.00</td>\n",
       "      <td>0</td>\n",
       "      <td>28</td>\n",
       "      <td>13</td>\n",
       "      <td>0</td>\n",
       "      <td>0</td>\n",
       "      <td>0</td>\n",
       "      <td>0</td>\n",
       "    </tr>\n",
       "    <tr>\n",
       "      <th>1</th>\n",
       "      <td>Cust10010</td>\n",
       "      <td>2</td>\n",
       "      <td>1</td>\n",
       "      <td>1</td>\n",
       "      <td>16.0</td>\n",
       "      <td>1</td>\n",
       "      <td>1</td>\n",
       "      <td>1</td>\n",
       "      <td>55270.0</td>\n",
       "      <td>8113</td>\n",
       "      <td>...</td>\n",
       "      <td>1</td>\n",
       "      <td>500</td>\n",
       "      <td>1279.17</td>\n",
       "      <td>0</td>\n",
       "      <td>34</td>\n",
       "      <td>9</td>\n",
       "      <td>11</td>\n",
       "      <td>0</td>\n",
       "      <td>1</td>\n",
       "      <td>1</td>\n",
       "    </tr>\n",
       "    <tr>\n",
       "      <th>2</th>\n",
       "      <td>Cust10015</td>\n",
       "      <td>0</td>\n",
       "      <td>1</td>\n",
       "      <td>4</td>\n",
       "      <td>20.0</td>\n",
       "      <td>3</td>\n",
       "      <td>0</td>\n",
       "      <td>1</td>\n",
       "      <td>59515.0</td>\n",
       "      <td>7490</td>\n",
       "      <td>...</td>\n",
       "      <td>5</td>\n",
       "      <td>1000</td>\n",
       "      <td>1454.67</td>\n",
       "      <td>1235986</td>\n",
       "      <td>19</td>\n",
       "      <td>11</td>\n",
       "      <td>15</td>\n",
       "      <td>1</td>\n",
       "      <td>1</td>\n",
       "      <td>0</td>\n",
       "    </tr>\n",
       "    <tr>\n",
       "      <th>3</th>\n",
       "      <td>Cust10020</td>\n",
       "      <td>3</td>\n",
       "      <td>3</td>\n",
       "      <td>2</td>\n",
       "      <td>10.0</td>\n",
       "      <td>1</td>\n",
       "      <td>2</td>\n",
       "      <td>1</td>\n",
       "      <td>4941.0</td>\n",
       "      <td>494</td>\n",
       "      <td>...</td>\n",
       "      <td>8</td>\n",
       "      <td>2000</td>\n",
       "      <td>1287.76</td>\n",
       "      <td>5873212</td>\n",
       "      <td>32</td>\n",
       "      <td>0</td>\n",
       "      <td>14</td>\n",
       "      <td>1</td>\n",
       "      <td>1</td>\n",
       "      <td>1</td>\n",
       "    </tr>\n",
       "    <tr>\n",
       "      <th>4</th>\n",
       "      <td>Cust1003</td>\n",
       "      <td>0</td>\n",
       "      <td>1</td>\n",
       "      <td>4</td>\n",
       "      <td>7.0</td>\n",
       "      <td>3</td>\n",
       "      <td>2</td>\n",
       "      <td>3</td>\n",
       "      <td>34650.0</td>\n",
       "      <td>7700</td>\n",
       "      <td>...</td>\n",
       "      <td>1</td>\n",
       "      <td>2000</td>\n",
       "      <td>1413.14</td>\n",
       "      <td>5000000</td>\n",
       "      <td>30</td>\n",
       "      <td>4</td>\n",
       "      <td>12</td>\n",
       "      <td>0</td>\n",
       "      <td>1</td>\n",
       "      <td>0</td>\n",
       "    </tr>\n",
       "  </tbody>\n",
       "</table>\n",
       "<p>5 rows × 30 columns</p>\n",
       "</div>"
      ],
      "text/plain": [
       "  CustomerID  TypeOfIncident  SeverityOfIncident  AuthoritiesContacted  \\\n",
       "0  Cust10008               0                   1                     0   \n",
       "1  Cust10010               2                   1                     1   \n",
       "2  Cust10015               0                   1                     4   \n",
       "3  Cust10020               3                   3                     2   \n",
       "4   Cust1003               0                   1                     4   \n",
       "\n",
       "   IncidentTime  NumberOfVehicles  BodilyInjuries  Witnesses  \\\n",
       "0           4.0                 3               0          0   \n",
       "1          16.0                 1               1          1   \n",
       "2          20.0                 3               0          1   \n",
       "3          10.0                 1               2          1   \n",
       "4           7.0                 3               2          3   \n",
       "\n",
       "   AmountOfTotalClaim  AmountOfInjuryClaim  ...  Policy_CombinedSingleLimit  \\\n",
       "0             68354.0                 6835  ...                           6   \n",
       "1             55270.0                 8113  ...                           1   \n",
       "2             59515.0                 7490  ...                           5   \n",
       "3              4941.0                  494  ...                           8   \n",
       "4             34650.0                 7700  ...                           1   \n",
       "\n",
       "   Policy_Deductible  PolicyAnnualPremium  UmbrellaLimit  VehicleModel  \\\n",
       "0               2000              1006.00              0            28   \n",
       "1                500              1279.17              0            34   \n",
       "2               1000              1454.67        1235986            19   \n",
       "3               2000              1287.76        5873212            32   \n",
       "4               2000              1413.14        5000000            30   \n",
       "\n",
       "   VehicleMake  VehicleYOM  PoliceReport  TypeOfCollission  PropertyDamage  \n",
       "0           13           0             0                 0               0  \n",
       "1            9          11             0                 1               1  \n",
       "2           11          15             1                 1               0  \n",
       "3            0          14             1                 1               1  \n",
       "4            4          12             0                 1               0  \n",
       "\n",
       "[5 rows x 30 columns]"
      ]
     },
     "execution_count": 146,
     "metadata": {},
     "output_type": "execute_result"
    }
   ],
   "source": [
    "test_data.head()"
   ]
  },
  {
   "cell_type": "code",
   "execution_count": 147,
   "metadata": {},
   "outputs": [
    {
     "data": {
      "text/plain": [
       "(28836, 30)"
      ]
     },
     "execution_count": 147,
     "metadata": {},
     "output_type": "execute_result"
    }
   ],
   "source": [
    "train_data.shape"
   ]
  },
  {
   "cell_type": "code",
   "execution_count": 148,
   "metadata": {},
   "outputs": [
    {
     "data": {
      "text/plain": [
       "(8912, 30)"
      ]
     },
     "execution_count": 148,
     "metadata": {},
     "output_type": "execute_result"
    }
   ],
   "source": [
    "test_data.shape"
   ]
  },
  {
   "cell_type": "code",
   "execution_count": 149,
   "metadata": {},
   "outputs": [],
   "source": [
    "x=train_data.drop(['ReportedFraud'],axis=1)\n",
    "y=train_data['ReportedFraud']"
   ]
  },
  {
   "cell_type": "code",
   "execution_count": 150,
   "metadata": {},
   "outputs": [
    {
     "data": {
      "text/plain": [
       "(28836,)"
      ]
     },
     "execution_count": 150,
     "metadata": {},
     "output_type": "execute_result"
    }
   ],
   "source": [
    "y.shape"
   ]
  },
  {
   "cell_type": "markdown",
   "metadata": {},
   "source": [
    "## Feature scaling"
   ]
  },
  {
   "cell_type": "code",
   "execution_count": 151,
   "metadata": {},
   "outputs": [],
   "source": [
    "from sklearn.preprocessing import MinMaxScaler"
   ]
  },
  {
   "cell_type": "code",
   "execution_count": 152,
   "metadata": {},
   "outputs": [],
   "source": [
    "mm=MinMaxScaler()\n",
    "x_flat=mm.fit_transform(x)"
   ]
  },
  {
   "cell_type": "markdown",
   "metadata": {},
   "source": [
    "# 4)Cross validation "
   ]
  },
  {
   "cell_type": "raw",
   "metadata": {},
   "source": [
    "We are use cross validation to evaluate model performance"
   ]
  },
  {
   "cell_type": "code",
   "execution_count": 153,
   "metadata": {},
   "outputs": [],
   "source": [
    "from sklearn.model_selection import cross_val_score"
   ]
  },
  {
   "cell_type": "code",
   "execution_count": 196,
   "metadata": {},
   "outputs": [
    {
     "data": {
      "text/plain": [
       "0.7712582133700112"
      ]
     },
     "execution_count": 196,
     "metadata": {},
     "output_type": "execute_result"
    }
   ],
   "source": [
    "l=cross_val_score(LogisticRegression(),x_flat,y,cv=5)\n",
    "l.mean()"
   ]
  },
  {
   "cell_type": "code",
   "execution_count": 197,
   "metadata": {},
   "outputs": [
    {
     "data": {
      "text/plain": [
       "0.8935009549045972"
      ]
     },
     "execution_count": 197,
     "metadata": {},
     "output_type": "execute_result"
    }
   ],
   "source": [
    "from sklearn.neighbors import KNeighborsClassifier\n",
    "k=cross_val_score(KNeighborsClassifier(),x_flat,y,cv=5)\n",
    "k.mean()"
   ]
  },
  {
   "cell_type": "code",
   "execution_count": 198,
   "metadata": {},
   "outputs": [
    {
     "data": {
      "text/plain": [
       "0.8249401516159065"
      ]
     },
     "execution_count": 198,
     "metadata": {},
     "output_type": "execute_result"
    }
   ],
   "source": [
    "d=cross_val_score(DecisionTreeClassifier(),x_flat,y,cv=5)\n",
    "d.mean()"
   ]
  },
  {
   "cell_type": "code",
   "execution_count": 199,
   "metadata": {},
   "outputs": [
    {
     "data": {
      "text/plain": [
       "0.9177071010221965"
      ]
     },
     "execution_count": 199,
     "metadata": {},
     "output_type": "execute_result"
    }
   ],
   "source": [
    "r=cross_val_score(RandomForestClassifier(),x_flat,y,cv=5)\n",
    "r.mean()"
   ]
  },
  {
   "cell_type": "code",
   "execution_count": 200,
   "metadata": {},
   "outputs": [],
   "source": [
    "from sklearn.ensemble import AdaBoostClassifier,GradientBoostingClassifier"
   ]
  },
  {
   "cell_type": "code",
   "execution_count": 201,
   "metadata": {},
   "outputs": [
    {
     "data": {
      "text/plain": [
       "0.8267100500311807"
      ]
     },
     "execution_count": 201,
     "metadata": {},
     "output_type": "execute_result"
    }
   ],
   "source": [
    "ad=cross_val_score(AdaBoostClassifier(),x_flat,y,cv=5)\n",
    "ad.mean()"
   ]
  },
  {
   "cell_type": "code",
   "execution_count": 202,
   "metadata": {},
   "outputs": [
    {
     "data": {
      "text/plain": [
       "0.8561175943186242"
      ]
     },
     "execution_count": 202,
     "metadata": {},
     "output_type": "execute_result"
    }
   ],
   "source": [
    "g=cross_val_score(GradientBoostingClassifier(),x_flat,y,cv=5)\n",
    "g.mean()"
   ]
  },
  {
   "cell_type": "markdown",
   "metadata": {},
   "source": [
    "# 5)Hyperparameter Tuning"
   ]
  },
  {
   "cell_type": "code",
   "execution_count": 206,
   "metadata": {},
   "outputs": [],
   "source": [
    "from sklearn.model_selection import RandomizedSearchCV\n",
    "rs = RandomizedSearchCV(RandomForestClassifier(criterion='entropy'),{\n",
    "    'n_estimators': [50,100,200,500],\n",
    "    'max_features':['auto','sqrt'],\n",
    "    'min_samples_split':[2,3,4,5,6]\n",
    "    }, \n",
    "    cv=5, \n",
    "    return_train_score=False, \n",
    "    n_iter=3\n",
    ")"
   ]
  },
  {
   "cell_type": "code",
   "execution_count": 207,
   "metadata": {},
   "outputs": [
    {
     "data": {
      "text/plain": [
       "RandomizedSearchCV(cv=5, estimator=RandomForestClassifier(criterion='entropy'),\n",
       "                   n_iter=3,\n",
       "                   param_distributions={'max_features': ['auto', 'sqrt'],\n",
       "                                        'min_samples_split': [2, 3, 4, 5, 6],\n",
       "                                        'n_estimators': [50, 100, 200, 500]})"
      ]
     },
     "execution_count": 207,
     "metadata": {},
     "output_type": "execute_result"
    }
   ],
   "source": [
    "rs.fit(x_flat,y)"
   ]
  },
  {
   "cell_type": "code",
   "execution_count": 208,
   "metadata": {
    "scrolled": true
   },
   "outputs": [
    {
     "data": {
      "text/html": [
       "<div>\n",
       "<style scoped>\n",
       "    .dataframe tbody tr th:only-of-type {\n",
       "        vertical-align: middle;\n",
       "    }\n",
       "\n",
       "    .dataframe tbody tr th {\n",
       "        vertical-align: top;\n",
       "    }\n",
       "\n",
       "    .dataframe thead th {\n",
       "        text-align: right;\n",
       "    }\n",
       "</style>\n",
       "<table border=\"1\" class=\"dataframe\">\n",
       "  <thead>\n",
       "    <tr style=\"text-align: right;\">\n",
       "      <th></th>\n",
       "      <th>param_n_estimators</th>\n",
       "      <th>param_max_features</th>\n",
       "      <th>param_min_samples_split</th>\n",
       "      <th>mean_test_score</th>\n",
       "    </tr>\n",
       "  </thead>\n",
       "  <tbody>\n",
       "    <tr>\n",
       "      <th>0</th>\n",
       "      <td>100</td>\n",
       "      <td>sqrt</td>\n",
       "      <td>2</td>\n",
       "      <td>0.918574</td>\n",
       "    </tr>\n",
       "    <tr>\n",
       "      <th>1</th>\n",
       "      <td>500</td>\n",
       "      <td>sqrt</td>\n",
       "      <td>4</td>\n",
       "      <td>0.920759</td>\n",
       "    </tr>\n",
       "    <tr>\n",
       "      <th>2</th>\n",
       "      <td>200</td>\n",
       "      <td>auto</td>\n",
       "      <td>5</td>\n",
       "      <td>0.920377</td>\n",
       "    </tr>\n",
       "  </tbody>\n",
       "</table>\n",
       "</div>"
      ],
      "text/plain": [
       "  param_n_estimators param_max_features param_min_samples_split  \\\n",
       "0                100               sqrt                       2   \n",
       "1                500               sqrt                       4   \n",
       "2                200               auto                       5   \n",
       "\n",
       "   mean_test_score  \n",
       "0         0.918574  \n",
       "1         0.920759  \n",
       "2         0.920377  "
      ]
     },
     "execution_count": 208,
     "metadata": {},
     "output_type": "execute_result"
    }
   ],
   "source": [
    "d21=pd.DataFrame(rs.cv_results_)\n",
    "d21[['param_n_estimators','param_max_features','param_min_samples_split','mean_test_score']]"
   ]
  },
  {
   "cell_type": "code",
   "execution_count": 209,
   "metadata": {},
   "outputs": [
    {
     "data": {
      "text/plain": [
       "RandomForestClassifier(criterion='entropy', min_samples_split=5,\n",
       "                       n_estimators=200)"
      ]
     },
     "execution_count": 209,
     "metadata": {},
     "output_type": "execute_result"
    }
   ],
   "source": [
    "classifir1=RandomForestClassifier(n_estimators=200,max_features='auto',criterion='entropy',min_samples_split=5)\n",
    "classifir1.fit(x_flat,y)\n"
   ]
  },
  {
   "cell_type": "code",
   "execution_count": 210,
   "metadata": {},
   "outputs": [],
   "source": [
    "y_f=mm.fit_transform(test_data.drop(['CustomerID'],axis=1))"
   ]
  },
  {
   "cell_type": "code",
   "execution_count": 211,
   "metadata": {},
   "outputs": [],
   "source": [
    "pred_test=classifir1.predict(y_f)"
   ]
  },
  {
   "cell_type": "code",
   "execution_count": 212,
   "metadata": {},
   "outputs": [],
   "source": [
    "count=np.bincount(pred_test)"
   ]
  },
  {
   "cell_type": "code",
   "execution_count": 213,
   "metadata": {},
   "outputs": [
    {
     "data": {
      "text/plain": [
       "1320"
      ]
     },
     "execution_count": 213,
     "metadata": {},
     "output_type": "execute_result"
    }
   ],
   "source": [
    "count[1]"
   ]
  },
  {
   "cell_type": "code",
   "execution_count": 167,
   "metadata": {},
   "outputs": [],
   "source": [
    "#Converting predicted values into dataframe"
   ]
  },
  {
   "cell_type": "code",
   "execution_count": 168,
   "metadata": {},
   "outputs": [],
   "source": [
    "final_df= pd.DataFrame({'CustomerID': test_data['CustomerID'],'ReportedFraud': pred_test})\n",
    "final_df.to_csv('model_final_ajith14.csv',index=False)"
   ]
  },
  {
   "cell_type": "code",
   "execution_count": 169,
   "metadata": {},
   "outputs": [
    {
     "data": {
      "text/html": [
       "<div>\n",
       "<style scoped>\n",
       "    .dataframe tbody tr th:only-of-type {\n",
       "        vertical-align: middle;\n",
       "    }\n",
       "\n",
       "    .dataframe tbody tr th {\n",
       "        vertical-align: top;\n",
       "    }\n",
       "\n",
       "    .dataframe thead th {\n",
       "        text-align: right;\n",
       "    }\n",
       "</style>\n",
       "<table border=\"1\" class=\"dataframe\">\n",
       "  <thead>\n",
       "    <tr style=\"text-align: right;\">\n",
       "      <th></th>\n",
       "      <th>CustomerID</th>\n",
       "      <th>ReportedFraud</th>\n",
       "    </tr>\n",
       "  </thead>\n",
       "  <tbody>\n",
       "    <tr>\n",
       "      <th>0</th>\n",
       "      <td>Cust10008</td>\n",
       "      <td>0</td>\n",
       "    </tr>\n",
       "    <tr>\n",
       "      <th>1</th>\n",
       "      <td>Cust10010</td>\n",
       "      <td>0</td>\n",
       "    </tr>\n",
       "    <tr>\n",
       "      <th>2</th>\n",
       "      <td>Cust10015</td>\n",
       "      <td>0</td>\n",
       "    </tr>\n",
       "    <tr>\n",
       "      <th>3</th>\n",
       "      <td>Cust10020</td>\n",
       "      <td>0</td>\n",
       "    </tr>\n",
       "    <tr>\n",
       "      <th>4</th>\n",
       "      <td>Cust1003</td>\n",
       "      <td>0</td>\n",
       "    </tr>\n",
       "    <tr>\n",
       "      <th>...</th>\n",
       "      <td>...</td>\n",
       "      <td>...</td>\n",
       "    </tr>\n",
       "    <tr>\n",
       "      <th>8907</th>\n",
       "      <td>Cust9984</td>\n",
       "      <td>0</td>\n",
       "    </tr>\n",
       "    <tr>\n",
       "      <th>8908</th>\n",
       "      <td>Cust9986</td>\n",
       "      <td>0</td>\n",
       "    </tr>\n",
       "    <tr>\n",
       "      <th>8909</th>\n",
       "      <td>Cust9990</td>\n",
       "      <td>0</td>\n",
       "    </tr>\n",
       "    <tr>\n",
       "      <th>8910</th>\n",
       "      <td>Cust9995</td>\n",
       "      <td>0</td>\n",
       "    </tr>\n",
       "    <tr>\n",
       "      <th>8911</th>\n",
       "      <td>Cust9998</td>\n",
       "      <td>0</td>\n",
       "    </tr>\n",
       "  </tbody>\n",
       "</table>\n",
       "<p>8912 rows × 2 columns</p>\n",
       "</div>"
      ],
      "text/plain": [
       "     CustomerID  ReportedFraud\n",
       "0     Cust10008              0\n",
       "1     Cust10010              0\n",
       "2     Cust10015              0\n",
       "3     Cust10020              0\n",
       "4      Cust1003              0\n",
       "...         ...            ...\n",
       "8907   Cust9984              0\n",
       "8908   Cust9986              0\n",
       "8909   Cust9990              0\n",
       "8910   Cust9995              0\n",
       "8911   Cust9998              0\n",
       "\n",
       "[8912 rows x 2 columns]"
      ]
     },
     "execution_count": 169,
     "metadata": {},
     "output_type": "execute_result"
    }
   ],
   "source": [
    "final_df"
   ]
  },
  {
   "cell_type": "markdown",
   "metadata": {},
   "source": [
    "# Conclusion"
   ]
  },
  {
   "cell_type": "raw",
   "metadata": {},
   "source": [
    "Information about features:\n",
    "    \n",
    "1)In the 'Type of incident' feature, multi and single vehicle incident have higher fraudulent claim. Based on this\n",
    "information we can say single and multi vehicle collision incident will have a higher chance to involve in fraudulent claim.\n",
    "\n",
    "2)From 'severity of incident' feature, while comparing to the fraud claim, major damage has higher fraud insurance claim.\n",
    "Also trivial damage has less amount of fraud claim. So, there is chances that major damage will involve in fraudulent claim.\n",
    "\n",
    "3)From 'Authority contacted' feature, who are not contacted authority in this cases fraud claim is less.\n",
    "so there is chances who are not contacted authorities then fraudulent claim is less. \n",
    "\n",
    "4)From 'No of vehicles' feature, while comparing to the fraud claim higher fraudclaim is happened when the vehicle \n",
    "is 1 and when the vehicle is 4 less fraudclaim happened comparing to all.\n",
    "\n",
    "5)In 'Insured age' column the age of 30-45 they claim insurance high.\n",
    "\n",
    "All features gives information except customerid ,policy number, vehicleid, zipcode, dateofincident, country.\n",
    "But some other features gives information.\n",
    "\n",
    "Algorithms were used in this project :\n",
    "    1)logistic regression , 2)KNN, 3)Decision tree, 4)Random Forest, 5) Adaboost, 6)Gradientboost\n",
    "\n",
    "While checking the cross validation score of these algorithms RandomForest gives a good score comparing to other algorithms.\n"
   ]
  }
 ],
 "metadata": {
  "colab": {
   "collapsed_sections": [],
   "provenance": []
  },
  "kernelspec": {
   "display_name": "Python 3 (ipykernel)",
   "language": "python",
   "name": "python3"
  },
  "language_info": {
   "codemirror_mode": {
    "name": "ipython",
    "version": 3
   },
   "file_extension": ".py",
   "mimetype": "text/x-python",
   "name": "python",
   "nbconvert_exporter": "python",
   "pygments_lexer": "ipython3",
   "version": "3.9.13"
  }
 },
 "nbformat": 4,
 "nbformat_minor": 1
}
